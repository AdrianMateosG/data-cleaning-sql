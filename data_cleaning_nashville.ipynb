{
 "cells": [
  {
   "cell_type": "markdown",
   "metadata": {},
   "source": [
    "# Nashville Housing Data Cleaning & Preparation in SQL\n",
    "\n",
    "- **Author:** Adrian Mateos Garza\n",
    "- **Github:** [AdrianMateosG](https://github.com/AdrianMateosG)\n",
    "- **Email:** mateos.garza.adrian@gmail.com"
   ]
  },
  {
   "cell_type": "markdown",
   "metadata": {},
   "source": [
    "## Prepare SQLite database"
   ]
  },
  {
   "cell_type": "code",
   "execution_count": 1,
   "metadata": {},
   "outputs": [],
   "source": [
    "import pandas as pd\n",
    "import sqlite3"
   ]
  },
  {
   "cell_type": "code",
   "execution_count": 2,
   "metadata": {},
   "outputs": [],
   "source": [
    "# Load sql magic module\n",
    "%load_ext sql\n",
    "\n",
    "con = sqlite3.connect(\"NashvilleHousing.db\")\n",
    "cur = con.cursor()"
   ]
  },
  {
   "cell_type": "code",
   "execution_count": 3,
   "metadata": {},
   "outputs": [
    {
     "data": {
      "text/html": [
       "<div>\n",
       "<style scoped>\n",
       "    .dataframe tbody tr th:only-of-type {\n",
       "        vertical-align: middle;\n",
       "    }\n",
       "\n",
       "    .dataframe tbody tr th {\n",
       "        vertical-align: top;\n",
       "    }\n",
       "\n",
       "    .dataframe thead th {\n",
       "        text-align: right;\n",
       "    }\n",
       "</style>\n",
       "<table border=\"1\" class=\"dataframe\">\n",
       "  <thead>\n",
       "    <tr style=\"text-align: right;\">\n",
       "      <th></th>\n",
       "      <th>UniqueID</th>\n",
       "      <th>ParcelID</th>\n",
       "      <th>LandUse</th>\n",
       "      <th>PropertyAddress</th>\n",
       "      <th>SaleDate</th>\n",
       "      <th>SalePrice</th>\n",
       "      <th>LegalReference</th>\n",
       "      <th>SoldAsVacant</th>\n",
       "      <th>OwnerName</th>\n",
       "      <th>OwnerAddress</th>\n",
       "      <th>Acreage</th>\n",
       "      <th>TaxDistrict</th>\n",
       "      <th>LandValue</th>\n",
       "      <th>BuildingValue</th>\n",
       "      <th>TotalValue</th>\n",
       "      <th>YearBuilt</th>\n",
       "      <th>Bedrooms</th>\n",
       "      <th>FullBath</th>\n",
       "      <th>HalfBath</th>\n",
       "    </tr>\n",
       "  </thead>\n",
       "  <tbody>\n",
       "    <tr>\n",
       "      <th>0</th>\n",
       "      <td>2045</td>\n",
       "      <td>007 00 0 125.00</td>\n",
       "      <td>SINGLE FAMILY</td>\n",
       "      <td>1808  FOX CHASE DR, GOODLETTSVILLE</td>\n",
       "      <td>2013-04-09</td>\n",
       "      <td>240000</td>\n",
       "      <td>20130412-0036474</td>\n",
       "      <td>No</td>\n",
       "      <td>FRAZIER, CYRENTHA LYNETTE</td>\n",
       "      <td>1808  FOX CHASE DR, GOODLETTSVILLE, TN</td>\n",
       "      <td>2.3</td>\n",
       "      <td>GENERAL SERVICES DISTRICT</td>\n",
       "      <td>50000.0</td>\n",
       "      <td>168200.0</td>\n",
       "      <td>235700.0</td>\n",
       "      <td>1986.0</td>\n",
       "      <td>3.0</td>\n",
       "      <td>3.0</td>\n",
       "      <td>0.0</td>\n",
       "    </tr>\n",
       "    <tr>\n",
       "      <th>1</th>\n",
       "      <td>16918</td>\n",
       "      <td>007 00 0 130.00</td>\n",
       "      <td>SINGLE FAMILY</td>\n",
       "      <td>1832  FOX CHASE DR, GOODLETTSVILLE</td>\n",
       "      <td>2014-06-10</td>\n",
       "      <td>366000</td>\n",
       "      <td>20140619-0053768</td>\n",
       "      <td>No</td>\n",
       "      <td>BONER, CHARLES &amp; LESLIE</td>\n",
       "      <td>1832  FOX CHASE DR, GOODLETTSVILLE, TN</td>\n",
       "      <td>3.5</td>\n",
       "      <td>GENERAL SERVICES DISTRICT</td>\n",
       "      <td>50000.0</td>\n",
       "      <td>264100.0</td>\n",
       "      <td>319000.0</td>\n",
       "      <td>1998.0</td>\n",
       "      <td>3.0</td>\n",
       "      <td>3.0</td>\n",
       "      <td>2.0</td>\n",
       "    </tr>\n",
       "    <tr>\n",
       "      <th>2</th>\n",
       "      <td>54582</td>\n",
       "      <td>007 00 0 138.00</td>\n",
       "      <td>SINGLE FAMILY</td>\n",
       "      <td>1864 FOX CHASE  DR, GOODLETTSVILLE</td>\n",
       "      <td>2016-09-26</td>\n",
       "      <td>435000</td>\n",
       "      <td>20160927-0101718</td>\n",
       "      <td>No</td>\n",
       "      <td>WILSON, JAMES E. &amp; JOANNE</td>\n",
       "      <td>1864  FOX CHASE DR, GOODLETTSVILLE, TN</td>\n",
       "      <td>2.9</td>\n",
       "      <td>GENERAL SERVICES DISTRICT</td>\n",
       "      <td>50000.0</td>\n",
       "      <td>216200.0</td>\n",
       "      <td>298000.0</td>\n",
       "      <td>1987.0</td>\n",
       "      <td>4.0</td>\n",
       "      <td>3.0</td>\n",
       "      <td>0.0</td>\n",
       "    </tr>\n",
       "    <tr>\n",
       "      <th>3</th>\n",
       "      <td>43070</td>\n",
       "      <td>007 00 0 143.00</td>\n",
       "      <td>SINGLE FAMILY</td>\n",
       "      <td>1853  FOX CHASE DR, GOODLETTSVILLE</td>\n",
       "      <td>2016-01-29</td>\n",
       "      <td>255000</td>\n",
       "      <td>20160129-0008913</td>\n",
       "      <td>No</td>\n",
       "      <td>BAKER, JAY K. &amp; SUSAN E.</td>\n",
       "      <td>1853  FOX CHASE DR, GOODLETTSVILLE, TN</td>\n",
       "      <td>2.6</td>\n",
       "      <td>GENERAL SERVICES DISTRICT</td>\n",
       "      <td>50000.0</td>\n",
       "      <td>147300.0</td>\n",
       "      <td>197300.0</td>\n",
       "      <td>1985.0</td>\n",
       "      <td>3.0</td>\n",
       "      <td>3.0</td>\n",
       "      <td>0.0</td>\n",
       "    </tr>\n",
       "    <tr>\n",
       "      <th>4</th>\n",
       "      <td>22714</td>\n",
       "      <td>007 00 0 149.00</td>\n",
       "      <td>SINGLE FAMILY</td>\n",
       "      <td>1829  FOX CHASE DR, GOODLETTSVILLE</td>\n",
       "      <td>2014-10-10</td>\n",
       "      <td>278000</td>\n",
       "      <td>20141015-0095255</td>\n",
       "      <td>No</td>\n",
       "      <td>POST, CHRISTOPHER M. &amp; SAMANTHA C.</td>\n",
       "      <td>1829  FOX CHASE DR, GOODLETTSVILLE, TN</td>\n",
       "      <td>2.0</td>\n",
       "      <td>GENERAL SERVICES DISTRICT</td>\n",
       "      <td>50000.0</td>\n",
       "      <td>152300.0</td>\n",
       "      <td>202300.0</td>\n",
       "      <td>1984.0</td>\n",
       "      <td>4.0</td>\n",
       "      <td>3.0</td>\n",
       "      <td>0.0</td>\n",
       "    </tr>\n",
       "  </tbody>\n",
       "</table>\n",
       "</div>"
      ],
      "text/plain": [
       "   UniqueID         ParcelID        LandUse  \\\n",
       "0      2045  007 00 0 125.00  SINGLE FAMILY   \n",
       "1     16918  007 00 0 130.00  SINGLE FAMILY   \n",
       "2     54582  007 00 0 138.00  SINGLE FAMILY   \n",
       "3     43070  007 00 0 143.00  SINGLE FAMILY   \n",
       "4     22714  007 00 0 149.00  SINGLE FAMILY   \n",
       "\n",
       "                      PropertyAddress   SaleDate  SalePrice    LegalReference  \\\n",
       "0  1808  FOX CHASE DR, GOODLETTSVILLE 2013-04-09     240000  20130412-0036474   \n",
       "1  1832  FOX CHASE DR, GOODLETTSVILLE 2014-06-10     366000  20140619-0053768   \n",
       "2  1864 FOX CHASE  DR, GOODLETTSVILLE 2016-09-26     435000  20160927-0101718   \n",
       "3  1853  FOX CHASE DR, GOODLETTSVILLE 2016-01-29     255000  20160129-0008913   \n",
       "4  1829  FOX CHASE DR, GOODLETTSVILLE 2014-10-10     278000  20141015-0095255   \n",
       "\n",
       "  SoldAsVacant                           OwnerName  \\\n",
       "0           No           FRAZIER, CYRENTHA LYNETTE   \n",
       "1           No             BONER, CHARLES & LESLIE   \n",
       "2           No           WILSON, JAMES E. & JOANNE   \n",
       "3           No            BAKER, JAY K. & SUSAN E.   \n",
       "4           No  POST, CHRISTOPHER M. & SAMANTHA C.   \n",
       "\n",
       "                             OwnerAddress  Acreage                TaxDistrict  \\\n",
       "0  1808  FOX CHASE DR, GOODLETTSVILLE, TN      2.3  GENERAL SERVICES DISTRICT   \n",
       "1  1832  FOX CHASE DR, GOODLETTSVILLE, TN      3.5  GENERAL SERVICES DISTRICT   \n",
       "2  1864  FOX CHASE DR, GOODLETTSVILLE, TN      2.9  GENERAL SERVICES DISTRICT   \n",
       "3  1853  FOX CHASE DR, GOODLETTSVILLE, TN      2.6  GENERAL SERVICES DISTRICT   \n",
       "4  1829  FOX CHASE DR, GOODLETTSVILLE, TN      2.0  GENERAL SERVICES DISTRICT   \n",
       "\n",
       "   LandValue  BuildingValue  TotalValue  YearBuilt  Bedrooms  FullBath  \\\n",
       "0    50000.0       168200.0    235700.0     1986.0       3.0       3.0   \n",
       "1    50000.0       264100.0    319000.0     1998.0       3.0       3.0   \n",
       "2    50000.0       216200.0    298000.0     1987.0       4.0       3.0   \n",
       "3    50000.0       147300.0    197300.0     1985.0       3.0       3.0   \n",
       "4    50000.0       152300.0    202300.0     1984.0       4.0       3.0   \n",
       "\n",
       "   HalfBath  \n",
       "0       0.0  \n",
       "1       2.0  \n",
       "2       0.0  \n",
       "3       0.0  \n",
       "4       0.0  "
      ]
     },
     "execution_count": 3,
     "metadata": {},
     "output_type": "execute_result"
    }
   ],
   "source": [
    "# Load data into pandas dataframe\n",
    "df = pd.read_excel(\"nashville_housing_data.xlsx\")\n",
    "df.head()"
   ]
  },
  {
   "cell_type": "code",
   "execution_count": 4,
   "metadata": {},
   "outputs": [
    {
     "data": {
      "text/plain": [
       "(56477, 19)"
      ]
     },
     "execution_count": 4,
     "metadata": {},
     "output_type": "execute_result"
    }
   ],
   "source": [
    "# check rows & columns\n",
    "df.shape"
   ]
  },
  {
   "cell_type": "code",
   "execution_count": 5,
   "metadata": {},
   "outputs": [
    {
     "data": {
      "text/plain": [
       "Index(['UniqueID', 'ParcelID', 'LandUse', 'PropertyAddress', 'SaleDate',\n",
       "       'SalePrice', 'LegalReference', 'SoldAsVacant', 'OwnerName',\n",
       "       'OwnerAddress', 'Acreage', 'TaxDistrict', 'LandValue', 'BuildingValue',\n",
       "       'TotalValue', 'YearBuilt', 'Bedrooms', 'FullBath', 'HalfBath'],\n",
       "      dtype='object')"
      ]
     },
     "execution_count": 5,
     "metadata": {},
     "output_type": "execute_result"
    }
   ],
   "source": [
    "df.columns"
   ]
  },
  {
   "cell_type": "code",
   "execution_count": 6,
   "metadata": {},
   "outputs": [
    {
     "data": {
      "text/plain": [
       "56477"
      ]
     },
     "execution_count": 6,
     "metadata": {},
     "output_type": "execute_result"
    }
   ],
   "source": [
    "# Convert pandas dataframe to sql database\n",
    "df.to_sql(\"nashville_housing\",\n",
    "               con = con,\n",
    "               if_exists=\"replace\",\n",
    "               index=False,\n",
    "               method=\"multi\",\n",
    "               chunksize=500)"
   ]
  },
  {
   "cell_type": "code",
   "execution_count": 7,
   "metadata": {},
   "outputs": [],
   "source": [
    "%sql sqlite:///NashvilleHousing.db"
   ]
  },
  {
   "cell_type": "code",
   "execution_count": 8,
   "metadata": {},
   "outputs": [
    {
     "name": "stdout",
     "output_type": "stream",
     "text": [
      " * sqlite:///NashvilleHousing.db\n",
      "Done.\n"
     ]
    },
    {
     "data": {
      "text/html": [
       "<table>\n",
       "    <tr>\n",
       "        <th>UniqueID</th>\n",
       "        <th>ParcelID</th>\n",
       "        <th>LandUse</th>\n",
       "        <th>PropertyAddress</th>\n",
       "        <th>SaleDate</th>\n",
       "        <th>SalePrice</th>\n",
       "        <th>LegalReference</th>\n",
       "        <th>SoldAsVacant</th>\n",
       "        <th>OwnerName</th>\n",
       "        <th>OwnerAddress</th>\n",
       "        <th>Acreage</th>\n",
       "        <th>TaxDistrict</th>\n",
       "        <th>LandValue</th>\n",
       "        <th>BuildingValue</th>\n",
       "        <th>TotalValue</th>\n",
       "        <th>YearBuilt</th>\n",
       "        <th>Bedrooms</th>\n",
       "        <th>FullBath</th>\n",
       "        <th>HalfBath</th>\n",
       "    </tr>\n",
       "    <tr>\n",
       "        <td>2045</td>\n",
       "        <td>007 00 0 125.00</td>\n",
       "        <td>SINGLE FAMILY</td>\n",
       "        <td>1808  FOX CHASE DR, GOODLETTSVILLE</td>\n",
       "        <td>2013-04-09 00:00:00</td>\n",
       "        <td>240000</td>\n",
       "        <td>20130412-0036474</td>\n",
       "        <td>No</td>\n",
       "        <td>FRAZIER, CYRENTHA LYNETTE</td>\n",
       "        <td>1808  FOX CHASE DR, GOODLETTSVILLE, TN</td>\n",
       "        <td>2.3</td>\n",
       "        <td>GENERAL SERVICES DISTRICT</td>\n",
       "        <td>50000.0</td>\n",
       "        <td>168200.0</td>\n",
       "        <td>235700.0</td>\n",
       "        <td>1986.0</td>\n",
       "        <td>3.0</td>\n",
       "        <td>3.0</td>\n",
       "        <td>0.0</td>\n",
       "    </tr>\n",
       "    <tr>\n",
       "        <td>16918</td>\n",
       "        <td>007 00 0 130.00</td>\n",
       "        <td>SINGLE FAMILY</td>\n",
       "        <td>1832  FOX CHASE DR, GOODLETTSVILLE</td>\n",
       "        <td>2014-06-10 00:00:00</td>\n",
       "        <td>366000</td>\n",
       "        <td>20140619-0053768</td>\n",
       "        <td>No</td>\n",
       "        <td>BONER, CHARLES &amp; LESLIE</td>\n",
       "        <td>1832  FOX CHASE DR, GOODLETTSVILLE, TN</td>\n",
       "        <td>3.5</td>\n",
       "        <td>GENERAL SERVICES DISTRICT</td>\n",
       "        <td>50000.0</td>\n",
       "        <td>264100.0</td>\n",
       "        <td>319000.0</td>\n",
       "        <td>1998.0</td>\n",
       "        <td>3.0</td>\n",
       "        <td>3.0</td>\n",
       "        <td>2.0</td>\n",
       "    </tr>\n",
       "    <tr>\n",
       "        <td>54582</td>\n",
       "        <td>007 00 0 138.00</td>\n",
       "        <td>SINGLE FAMILY</td>\n",
       "        <td>1864 FOX CHASE  DR, GOODLETTSVILLE</td>\n",
       "        <td>2016-09-26 00:00:00</td>\n",
       "        <td>435000</td>\n",
       "        <td>20160927-0101718</td>\n",
       "        <td>No</td>\n",
       "        <td>WILSON, JAMES E. &amp; JOANNE</td>\n",
       "        <td>1864  FOX CHASE DR, GOODLETTSVILLE, TN</td>\n",
       "        <td>2.9</td>\n",
       "        <td>GENERAL SERVICES DISTRICT</td>\n",
       "        <td>50000.0</td>\n",
       "        <td>216200.0</td>\n",
       "        <td>298000.0</td>\n",
       "        <td>1987.0</td>\n",
       "        <td>4.0</td>\n",
       "        <td>3.0</td>\n",
       "        <td>0.0</td>\n",
       "    </tr>\n",
       "    <tr>\n",
       "        <td>43070</td>\n",
       "        <td>007 00 0 143.00</td>\n",
       "        <td>SINGLE FAMILY</td>\n",
       "        <td>1853  FOX CHASE DR, GOODLETTSVILLE</td>\n",
       "        <td>2016-01-29 00:00:00</td>\n",
       "        <td>255000</td>\n",
       "        <td>20160129-0008913</td>\n",
       "        <td>No</td>\n",
       "        <td>BAKER, JAY K. &amp; SUSAN E.</td>\n",
       "        <td>1853  FOX CHASE DR, GOODLETTSVILLE, TN</td>\n",
       "        <td>2.6</td>\n",
       "        <td>GENERAL SERVICES DISTRICT</td>\n",
       "        <td>50000.0</td>\n",
       "        <td>147300.0</td>\n",
       "        <td>197300.0</td>\n",
       "        <td>1985.0</td>\n",
       "        <td>3.0</td>\n",
       "        <td>3.0</td>\n",
       "        <td>0.0</td>\n",
       "    </tr>\n",
       "    <tr>\n",
       "        <td>22714</td>\n",
       "        <td>007 00 0 149.00</td>\n",
       "        <td>SINGLE FAMILY</td>\n",
       "        <td>1829  FOX CHASE DR, GOODLETTSVILLE</td>\n",
       "        <td>2014-10-10 00:00:00</td>\n",
       "        <td>278000</td>\n",
       "        <td>20141015-0095255</td>\n",
       "        <td>No</td>\n",
       "        <td>POST, CHRISTOPHER M. &amp; SAMANTHA C.</td>\n",
       "        <td>1829  FOX CHASE DR, GOODLETTSVILLE, TN</td>\n",
       "        <td>2.0</td>\n",
       "        <td>GENERAL SERVICES DISTRICT</td>\n",
       "        <td>50000.0</td>\n",
       "        <td>152300.0</td>\n",
       "        <td>202300.0</td>\n",
       "        <td>1984.0</td>\n",
       "        <td>4.0</td>\n",
       "        <td>3.0</td>\n",
       "        <td>0.0</td>\n",
       "    </tr>\n",
       "</table>"
      ],
      "text/plain": [
       "[(2045, '007 00 0 125.00', 'SINGLE FAMILY', '1808  FOX CHASE DR, GOODLETTSVILLE', '2013-04-09 00:00:00', 240000, '20130412-0036474', 'No', 'FRAZIER, CYRENTHA LYNETTE', '1808  FOX CHASE DR, GOODLETTSVILLE, TN', 2.3, 'GENERAL SERVICES DISTRICT', 50000.0, 168200.0, 235700.0, 1986.0, 3.0, 3.0, 0.0),\n",
       " (16918, '007 00 0 130.00', 'SINGLE FAMILY', '1832  FOX CHASE DR, GOODLETTSVILLE', '2014-06-10 00:00:00', 366000, '20140619-0053768', 'No', 'BONER, CHARLES & LESLIE', '1832  FOX CHASE DR, GOODLETTSVILLE, TN', 3.5, 'GENERAL SERVICES DISTRICT', 50000.0, 264100.0, 319000.0, 1998.0, 3.0, 3.0, 2.0),\n",
       " (54582, '007 00 0 138.00', 'SINGLE FAMILY', '1864 FOX CHASE  DR, GOODLETTSVILLE', '2016-09-26 00:00:00', 435000, '20160927-0101718', 'No', 'WILSON, JAMES E. & JOANNE', '1864  FOX CHASE DR, GOODLETTSVILLE, TN', 2.9, 'GENERAL SERVICES DISTRICT', 50000.0, 216200.0, 298000.0, 1987.0, 4.0, 3.0, 0.0),\n",
       " (43070, '007 00 0 143.00', 'SINGLE FAMILY', '1853  FOX CHASE DR, GOODLETTSVILLE', '2016-01-29 00:00:00', 255000, '20160129-0008913', 'No', 'BAKER, JAY K. & SUSAN E.', '1853  FOX CHASE DR, GOODLETTSVILLE, TN', 2.6, 'GENERAL SERVICES DISTRICT', 50000.0, 147300.0, 197300.0, 1985.0, 3.0, 3.0, 0.0),\n",
       " (22714, '007 00 0 149.00', 'SINGLE FAMILY', '1829  FOX CHASE DR, GOODLETTSVILLE', '2014-10-10 00:00:00', 278000, '20141015-0095255', 'No', 'POST, CHRISTOPHER M. & SAMANTHA C.', '1829  FOX CHASE DR, GOODLETTSVILLE, TN', 2.0, 'GENERAL SERVICES DISTRICT', 50000.0, 152300.0, 202300.0, 1984.0, 4.0, 3.0, 0.0)]"
      ]
     },
     "execution_count": 8,
     "metadata": {},
     "output_type": "execute_result"
    }
   ],
   "source": [
    "%%sql\n",
    "\n",
    "SELECT *\n",
    "FROM nashville_housing\n",
    "LIMIT 5;"
   ]
  },
  {
   "cell_type": "markdown",
   "metadata": {},
   "source": [
    "## Data Cleaning"
   ]
  },
  {
   "cell_type": "markdown",
   "metadata": {},
   "source": [
    "#### Standardize Date Format"
   ]
  },
  {
   "cell_type": "code",
   "execution_count": 9,
   "metadata": {},
   "outputs": [
    {
     "name": "stdout",
     "output_type": "stream",
     "text": [
      " * sqlite:///NashvilleHousing.db\n",
      "Done.\n"
     ]
    },
    {
     "data": {
      "text/html": [
       "<table>\n",
       "    <tr>\n",
       "        <th>SaleDateConverted</th>\n",
       "    </tr>\n",
       "    <tr>\n",
       "        <td>2013-04-09</td>\n",
       "    </tr>\n",
       "    <tr>\n",
       "        <td>2014-06-10</td>\n",
       "    </tr>\n",
       "    <tr>\n",
       "        <td>2016-09-26</td>\n",
       "    </tr>\n",
       "    <tr>\n",
       "        <td>2016-01-29</td>\n",
       "    </tr>\n",
       "    <tr>\n",
       "        <td>2014-10-10</td>\n",
       "    </tr>\n",
       "</table>"
      ],
      "text/plain": [
       "[('2013-04-09',),\n",
       " ('2014-06-10',),\n",
       " ('2016-09-26',),\n",
       " ('2016-01-29',),\n",
       " ('2014-10-10',)]"
      ]
     },
     "execution_count": 9,
     "metadata": {},
     "output_type": "execute_result"
    }
   ],
   "source": [
    "%%sql\n",
    "\n",
    "Select DATE(SaleDate) AS SaleDateConverted\n",
    "FROM nashville_housing\n",
    "LIMIT 5;"
   ]
  },
  {
   "cell_type": "code",
   "execution_count": 10,
   "metadata": {},
   "outputs": [
    {
     "name": "stdout",
     "output_type": "stream",
     "text": [
      " * sqlite:///NashvilleHousing.db\n",
      "56477 rows affected.\n"
     ]
    },
    {
     "data": {
      "text/plain": [
       "[]"
      ]
     },
     "execution_count": 10,
     "metadata": {},
     "output_type": "execute_result"
    }
   ],
   "source": [
    "%%sql\n",
    "\n",
    "UPDATE nashville_housing\n",
    "SET SaleDate = DATE(SaleDate);"
   ]
  },
  {
   "cell_type": "code",
   "execution_count": 11,
   "metadata": {},
   "outputs": [
    {
     "name": "stdout",
     "output_type": "stream",
     "text": [
      " * sqlite:///NashvilleHousing.db\n",
      "Done.\n"
     ]
    },
    {
     "data": {
      "text/html": [
       "<table>\n",
       "    <tr>\n",
       "        <th>UniqueID</th>\n",
       "        <th>ParcelID</th>\n",
       "        <th>LandUse</th>\n",
       "        <th>PropertyAddress</th>\n",
       "        <th>SaleDate</th>\n",
       "        <th>SalePrice</th>\n",
       "        <th>LegalReference</th>\n",
       "        <th>SoldAsVacant</th>\n",
       "        <th>OwnerName</th>\n",
       "        <th>OwnerAddress</th>\n",
       "        <th>Acreage</th>\n",
       "        <th>TaxDistrict</th>\n",
       "        <th>LandValue</th>\n",
       "        <th>BuildingValue</th>\n",
       "        <th>TotalValue</th>\n",
       "        <th>YearBuilt</th>\n",
       "        <th>Bedrooms</th>\n",
       "        <th>FullBath</th>\n",
       "        <th>HalfBath</th>\n",
       "    </tr>\n",
       "    <tr>\n",
       "        <td>2045</td>\n",
       "        <td>007 00 0 125.00</td>\n",
       "        <td>SINGLE FAMILY</td>\n",
       "        <td>1808  FOX CHASE DR, GOODLETTSVILLE</td>\n",
       "        <td>2013-04-09</td>\n",
       "        <td>240000</td>\n",
       "        <td>20130412-0036474</td>\n",
       "        <td>No</td>\n",
       "        <td>FRAZIER, CYRENTHA LYNETTE</td>\n",
       "        <td>1808  FOX CHASE DR, GOODLETTSVILLE, TN</td>\n",
       "        <td>2.3</td>\n",
       "        <td>GENERAL SERVICES DISTRICT</td>\n",
       "        <td>50000.0</td>\n",
       "        <td>168200.0</td>\n",
       "        <td>235700.0</td>\n",
       "        <td>1986.0</td>\n",
       "        <td>3.0</td>\n",
       "        <td>3.0</td>\n",
       "        <td>0.0</td>\n",
       "    </tr>\n",
       "    <tr>\n",
       "        <td>16918</td>\n",
       "        <td>007 00 0 130.00</td>\n",
       "        <td>SINGLE FAMILY</td>\n",
       "        <td>1832  FOX CHASE DR, GOODLETTSVILLE</td>\n",
       "        <td>2014-06-10</td>\n",
       "        <td>366000</td>\n",
       "        <td>20140619-0053768</td>\n",
       "        <td>No</td>\n",
       "        <td>BONER, CHARLES &amp; LESLIE</td>\n",
       "        <td>1832  FOX CHASE DR, GOODLETTSVILLE, TN</td>\n",
       "        <td>3.5</td>\n",
       "        <td>GENERAL SERVICES DISTRICT</td>\n",
       "        <td>50000.0</td>\n",
       "        <td>264100.0</td>\n",
       "        <td>319000.0</td>\n",
       "        <td>1998.0</td>\n",
       "        <td>3.0</td>\n",
       "        <td>3.0</td>\n",
       "        <td>2.0</td>\n",
       "    </tr>\n",
       "    <tr>\n",
       "        <td>54582</td>\n",
       "        <td>007 00 0 138.00</td>\n",
       "        <td>SINGLE FAMILY</td>\n",
       "        <td>1864 FOX CHASE  DR, GOODLETTSVILLE</td>\n",
       "        <td>2016-09-26</td>\n",
       "        <td>435000</td>\n",
       "        <td>20160927-0101718</td>\n",
       "        <td>No</td>\n",
       "        <td>WILSON, JAMES E. &amp; JOANNE</td>\n",
       "        <td>1864  FOX CHASE DR, GOODLETTSVILLE, TN</td>\n",
       "        <td>2.9</td>\n",
       "        <td>GENERAL SERVICES DISTRICT</td>\n",
       "        <td>50000.0</td>\n",
       "        <td>216200.0</td>\n",
       "        <td>298000.0</td>\n",
       "        <td>1987.0</td>\n",
       "        <td>4.0</td>\n",
       "        <td>3.0</td>\n",
       "        <td>0.0</td>\n",
       "    </tr>\n",
       "    <tr>\n",
       "        <td>43070</td>\n",
       "        <td>007 00 0 143.00</td>\n",
       "        <td>SINGLE FAMILY</td>\n",
       "        <td>1853  FOX CHASE DR, GOODLETTSVILLE</td>\n",
       "        <td>2016-01-29</td>\n",
       "        <td>255000</td>\n",
       "        <td>20160129-0008913</td>\n",
       "        <td>No</td>\n",
       "        <td>BAKER, JAY K. &amp; SUSAN E.</td>\n",
       "        <td>1853  FOX CHASE DR, GOODLETTSVILLE, TN</td>\n",
       "        <td>2.6</td>\n",
       "        <td>GENERAL SERVICES DISTRICT</td>\n",
       "        <td>50000.0</td>\n",
       "        <td>147300.0</td>\n",
       "        <td>197300.0</td>\n",
       "        <td>1985.0</td>\n",
       "        <td>3.0</td>\n",
       "        <td>3.0</td>\n",
       "        <td>0.0</td>\n",
       "    </tr>\n",
       "    <tr>\n",
       "        <td>22714</td>\n",
       "        <td>007 00 0 149.00</td>\n",
       "        <td>SINGLE FAMILY</td>\n",
       "        <td>1829  FOX CHASE DR, GOODLETTSVILLE</td>\n",
       "        <td>2014-10-10</td>\n",
       "        <td>278000</td>\n",
       "        <td>20141015-0095255</td>\n",
       "        <td>No</td>\n",
       "        <td>POST, CHRISTOPHER M. &amp; SAMANTHA C.</td>\n",
       "        <td>1829  FOX CHASE DR, GOODLETTSVILLE, TN</td>\n",
       "        <td>2.0</td>\n",
       "        <td>GENERAL SERVICES DISTRICT</td>\n",
       "        <td>50000.0</td>\n",
       "        <td>152300.0</td>\n",
       "        <td>202300.0</td>\n",
       "        <td>1984.0</td>\n",
       "        <td>4.0</td>\n",
       "        <td>3.0</td>\n",
       "        <td>0.0</td>\n",
       "    </tr>\n",
       "</table>"
      ],
      "text/plain": [
       "[(2045, '007 00 0 125.00', 'SINGLE FAMILY', '1808  FOX CHASE DR, GOODLETTSVILLE', '2013-04-09', 240000, '20130412-0036474', 'No', 'FRAZIER, CYRENTHA LYNETTE', '1808  FOX CHASE DR, GOODLETTSVILLE, TN', 2.3, 'GENERAL SERVICES DISTRICT', 50000.0, 168200.0, 235700.0, 1986.0, 3.0, 3.0, 0.0),\n",
       " (16918, '007 00 0 130.00', 'SINGLE FAMILY', '1832  FOX CHASE DR, GOODLETTSVILLE', '2014-06-10', 366000, '20140619-0053768', 'No', 'BONER, CHARLES & LESLIE', '1832  FOX CHASE DR, GOODLETTSVILLE, TN', 3.5, 'GENERAL SERVICES DISTRICT', 50000.0, 264100.0, 319000.0, 1998.0, 3.0, 3.0, 2.0),\n",
       " (54582, '007 00 0 138.00', 'SINGLE FAMILY', '1864 FOX CHASE  DR, GOODLETTSVILLE', '2016-09-26', 435000, '20160927-0101718', 'No', 'WILSON, JAMES E. & JOANNE', '1864  FOX CHASE DR, GOODLETTSVILLE, TN', 2.9, 'GENERAL SERVICES DISTRICT', 50000.0, 216200.0, 298000.0, 1987.0, 4.0, 3.0, 0.0),\n",
       " (43070, '007 00 0 143.00', 'SINGLE FAMILY', '1853  FOX CHASE DR, GOODLETTSVILLE', '2016-01-29', 255000, '20160129-0008913', 'No', 'BAKER, JAY K. & SUSAN E.', '1853  FOX CHASE DR, GOODLETTSVILLE, TN', 2.6, 'GENERAL SERVICES DISTRICT', 50000.0, 147300.0, 197300.0, 1985.0, 3.0, 3.0, 0.0),\n",
       " (22714, '007 00 0 149.00', 'SINGLE FAMILY', '1829  FOX CHASE DR, GOODLETTSVILLE', '2014-10-10', 278000, '20141015-0095255', 'No', 'POST, CHRISTOPHER M. & SAMANTHA C.', '1829  FOX CHASE DR, GOODLETTSVILLE, TN', 2.0, 'GENERAL SERVICES DISTRICT', 50000.0, 152300.0, 202300.0, 1984.0, 4.0, 3.0, 0.0)]"
      ]
     },
     "execution_count": 11,
     "metadata": {},
     "output_type": "execute_result"
    }
   ],
   "source": [
    "%%sql\n",
    "\n",
    "SELECT *\n",
    "FROM nashville_housing\n",
    "LIMIT 5;"
   ]
  },
  {
   "cell_type": "markdown",
   "metadata": {},
   "source": [
    "#### Recover missing PropertyAdress data \n",
    "- We do this by performing a self-join on rows with same \"ParcelID\" but different \"UniqueID\""
   ]
  },
  {
   "cell_type": "code",
   "execution_count": 12,
   "metadata": {},
   "outputs": [
    {
     "name": "stdout",
     "output_type": "stream",
     "text": [
      " * sqlite:///NashvilleHousing.db\n",
      "Done.\n"
     ]
    },
    {
     "data": {
      "text/html": [
       "<table>\n",
       "    <tr>\n",
       "        <th>COUNT(*)</th>\n",
       "    </tr>\n",
       "    <tr>\n",
       "        <td>29</td>\n",
       "    </tr>\n",
       "</table>"
      ],
      "text/plain": [
       "[(29,)]"
      ]
     },
     "execution_count": 12,
     "metadata": {},
     "output_type": "execute_result"
    }
   ],
   "source": [
    "%%sql\n",
    "\n",
    "SELECT COUNT(*)\n",
    "FROM nashville_housing\n",
    "WHERE PropertyAddress IS null;"
   ]
  },
  {
   "cell_type": "code",
   "execution_count": 19,
   "metadata": {},
   "outputs": [
    {
     "name": "stdout",
     "output_type": "stream",
     "text": [
      " * sqlite:///NashvilleHousing.db\n",
      "Done.\n"
     ]
    },
    {
     "data": {
      "text/html": [
       "<table>\n",
       "    <tr>\n",
       "        <th>ParcelID_a</th>\n",
       "        <th>PropertyAddress_a</th>\n",
       "        <th>ParcelID_b</th>\n",
       "        <th>PropertyAddress_b</th>\n",
       "        <th>MergedPropertyAddress</th>\n",
       "    </tr>\n",
       "    <tr>\n",
       "        <td>025 07 0 031.00</td>\n",
       "        <td>None</td>\n",
       "        <td>025 07 0 031.00</td>\n",
       "        <td>410  ROSEHILL CT, GOODLETTSVILLE</td>\n",
       "        <td>410  ROSEHILL CT, GOODLETTSVILLE</td>\n",
       "    </tr>\n",
       "    <tr>\n",
       "        <td>026 01 0 069.00</td>\n",
       "        <td>None</td>\n",
       "        <td>026 01 0 069.00</td>\n",
       "        <td>141  TWO MILE PIKE, GOODLETTSVILLE</td>\n",
       "        <td>141  TWO MILE PIKE, GOODLETTSVILLE</td>\n",
       "    </tr>\n",
       "    <tr>\n",
       "        <td>026 05 0 017.00</td>\n",
       "        <td>None</td>\n",
       "        <td>026 05 0 017.00</td>\n",
       "        <td>208  EAST AVE, GOODLETTSVILLE</td>\n",
       "        <td>208  EAST AVE, GOODLETTSVILLE</td>\n",
       "    </tr>\n",
       "    <tr>\n",
       "        <td>026 06 0A 038.00</td>\n",
       "        <td>None</td>\n",
       "        <td>026 06 0A 038.00</td>\n",
       "        <td>109  CANTON CT, GOODLETTSVILLE</td>\n",
       "        <td>109  CANTON CT, GOODLETTSVILLE</td>\n",
       "    </tr>\n",
       "    <tr>\n",
       "        <td>033 06 0 041.00</td>\n",
       "        <td>None</td>\n",
       "        <td>033 06 0 041.00</td>\n",
       "        <td>1129  CAMPBELL RD, GOODLETTSVILLE</td>\n",
       "        <td>1129  CAMPBELL RD, GOODLETTSVILLE</td>\n",
       "    </tr>\n",
       "    <tr>\n",
       "        <td>033 06 0A 002.00</td>\n",
       "        <td>None</td>\n",
       "        <td>033 06 0A 002.00</td>\n",
       "        <td>1116  CAMPBELL RD, GOODLETTSVILLE</td>\n",
       "        <td>1116  CAMPBELL RD, GOODLETTSVILLE</td>\n",
       "    </tr>\n",
       "    <tr>\n",
       "        <td>033 15 0 123.00</td>\n",
       "        <td>None</td>\n",
       "        <td>033 15 0 123.00</td>\n",
       "        <td>438  W CAMPBELL RD, GOODLETTSVILLE</td>\n",
       "        <td>438  W CAMPBELL RD, GOODLETTSVILLE</td>\n",
       "    </tr>\n",
       "    <tr>\n",
       "        <td>034 03 0 059.00</td>\n",
       "        <td>None</td>\n",
       "        <td>034 03 0 059.00</td>\n",
       "        <td>2117  PAULA DR, MADISON</td>\n",
       "        <td>2117  PAULA DR, MADISON</td>\n",
       "    </tr>\n",
       "    <tr>\n",
       "        <td>034 03 0 059.00</td>\n",
       "        <td>None</td>\n",
       "        <td>034 03 0 059.00</td>\n",
       "        <td>2117  PAULA DR, MADISON</td>\n",
       "        <td>2117  PAULA DR, MADISON</td>\n",
       "    </tr>\n",
       "    <tr>\n",
       "        <td>034 07 0B 015.00</td>\n",
       "        <td>None</td>\n",
       "        <td>034 07 0B 015.00</td>\n",
       "        <td>2524  VAL MARIE DR, MADISON</td>\n",
       "        <td>2524  VAL MARIE DR, MADISON</td>\n",
       "    </tr>\n",
       "    <tr>\n",
       "        <td>034 07 0B 015.00</td>\n",
       "        <td>None</td>\n",
       "        <td>034 07 0B 015.00</td>\n",
       "        <td>2524  VAL MARIE DR, MADISON</td>\n",
       "        <td>2524  VAL MARIE DR, MADISON</td>\n",
       "    </tr>\n",
       "    <tr>\n",
       "        <td>034 07 0B 015.00</td>\n",
       "        <td>None</td>\n",
       "        <td>034 07 0B 015.00</td>\n",
       "        <td>2524 VAL MARIE  DR, MADISON</td>\n",
       "        <td>2524 VAL MARIE  DR, MADISON</td>\n",
       "    </tr>\n",
       "    <tr>\n",
       "        <td>034 16 0A 004.00</td>\n",
       "        <td>None</td>\n",
       "        <td>034 16 0A 004.00</td>\n",
       "        <td>213 WARREN  CT, OLD HICKORY</td>\n",
       "        <td>213 WARREN  CT, OLD HICKORY</td>\n",
       "    </tr>\n",
       "    <tr>\n",
       "        <td>041 03 0A 100.00</td>\n",
       "        <td>None</td>\n",
       "        <td>041 03 0A 100.00</td>\n",
       "        <td>1289  GOODMORNING DR, NASHVILLE</td>\n",
       "        <td>1289  GOODMORNING DR, NASHVILLE</td>\n",
       "    </tr>\n",
       "    <tr>\n",
       "        <td>042 13 0 075.00</td>\n",
       "        <td>None</td>\n",
       "        <td>042 13 0 075.00</td>\n",
       "        <td>222  FOXBORO DR, MADISON</td>\n",
       "        <td>222  FOXBORO DR, MADISON</td>\n",
       "    </tr>\n",
       "    <tr>\n",
       "        <td>043 04 0 014.00</td>\n",
       "        <td>None</td>\n",
       "        <td>043 04 0 014.00</td>\n",
       "        <td>112  HILLER DR, OLD HICKORY</td>\n",
       "        <td>112  HILLER DR, OLD HICKORY</td>\n",
       "    </tr>\n",
       "    <tr>\n",
       "        <td>043 09 0 074.00</td>\n",
       "        <td>None</td>\n",
       "        <td>043 09 0 074.00</td>\n",
       "        <td>213 B  LOVELL ST, MADISON</td>\n",
       "        <td>213 B  LOVELL ST, MADISON</td>\n",
       "    </tr>\n",
       "    <tr>\n",
       "        <td>043 13 0 308.00</td>\n",
       "        <td>None</td>\n",
       "        <td>043 13 0 308.00</td>\n",
       "        <td>224  HICKORY ST, MADISON</td>\n",
       "        <td>224  HICKORY ST, MADISON</td>\n",
       "    </tr>\n",
       "    <tr>\n",
       "        <td>044 05 0 135.00</td>\n",
       "        <td>None</td>\n",
       "        <td>044 05 0 135.00</td>\n",
       "        <td>202  KEETON AVE, OLD HICKORY</td>\n",
       "        <td>202  KEETON AVE, OLD HICKORY</td>\n",
       "    </tr>\n",
       "    <tr>\n",
       "        <td>052 01 0 296.00</td>\n",
       "        <td>None</td>\n",
       "        <td>052 01 0 296.00</td>\n",
       "        <td>726  IDLEWILD DR, MADISON</td>\n",
       "        <td>726  IDLEWILD DR, MADISON</td>\n",
       "    </tr>\n",
       "    <tr>\n",
       "        <td>052 08 0A 320.00</td>\n",
       "        <td>None</td>\n",
       "        <td>052 08 0A 320.00</td>\n",
       "        <td>608  SANDY SPRING TRL, MADISON</td>\n",
       "        <td>608  SANDY SPRING TRL, MADISON</td>\n",
       "    </tr>\n",
       "    <tr>\n",
       "        <td>092 06 0 273.00</td>\n",
       "        <td>None</td>\n",
       "        <td>092 06 0 273.00</td>\n",
       "        <td>2721  HERMAN ST, NASHVILLE</td>\n",
       "        <td>2721  HERMAN ST, NASHVILLE</td>\n",
       "    </tr>\n",
       "    <tr>\n",
       "        <td>092 06 0 282.00</td>\n",
       "        <td>None</td>\n",
       "        <td>092 06 0 282.00</td>\n",
       "        <td>815  31ST AVE N, NASHVILLE</td>\n",
       "        <td>815  31ST AVE N, NASHVILLE</td>\n",
       "    </tr>\n",
       "    <tr>\n",
       "        <td>092 13 0 322.00</td>\n",
       "        <td>None</td>\n",
       "        <td>092 13 0 322.00</td>\n",
       "        <td>237  37TH AVE N, NASHVILLE</td>\n",
       "        <td>237  37TH AVE N, NASHVILLE</td>\n",
       "    </tr>\n",
       "    <tr>\n",
       "        <td>092 13 0 322.00</td>\n",
       "        <td>None</td>\n",
       "        <td>092 13 0 322.00</td>\n",
       "        <td>237  37TH AVE N, NASHVILLE</td>\n",
       "        <td>237  37TH AVE N, NASHVILLE</td>\n",
       "    </tr>\n",
       "    <tr>\n",
       "        <td>092 13 0 339.00</td>\n",
       "        <td>None</td>\n",
       "        <td>092 13 0 339.00</td>\n",
       "        <td>311  35TH AVE N, NASHVILLE</td>\n",
       "        <td>311  35TH AVE N, NASHVILLE</td>\n",
       "    </tr>\n",
       "    <tr>\n",
       "        <td>093 08 0 054.00</td>\n",
       "        <td>None</td>\n",
       "        <td>093 08 0 054.00</td>\n",
       "        <td>700  GLENVIEW DR, NASHVILLE</td>\n",
       "        <td>700  GLENVIEW DR, NASHVILLE</td>\n",
       "    </tr>\n",
       "    <tr>\n",
       "        <td>093 08 0 054.00</td>\n",
       "        <td>None</td>\n",
       "        <td>093 08 0 054.00</td>\n",
       "        <td>700  GLENVIEW DR, NASHVILLE</td>\n",
       "        <td>700  GLENVIEW DR, NASHVILLE</td>\n",
       "    </tr>\n",
       "    <tr>\n",
       "        <td>107 13 0 107.00</td>\n",
       "        <td>None</td>\n",
       "        <td>107 13 0 107.00</td>\n",
       "        <td>1205  THOMPSON PL, NASHVILLE</td>\n",
       "        <td>1205  THOMPSON PL, NASHVILLE</td>\n",
       "    </tr>\n",
       "    <tr>\n",
       "        <td>108 07 0A 026.00</td>\n",
       "        <td>None</td>\n",
       "        <td>108 07 0A 026.00</td>\n",
       "        <td>908  PATIO DR, NASHVILLE</td>\n",
       "        <td>908  PATIO DR, NASHVILLE</td>\n",
       "    </tr>\n",
       "    <tr>\n",
       "        <td>108 07 0A 026.00</td>\n",
       "        <td>None</td>\n",
       "        <td>108 07 0A 026.00</td>\n",
       "        <td>908  PATIO DR, NASHVILLE</td>\n",
       "        <td>908  PATIO DR, NASHVILLE</td>\n",
       "    </tr>\n",
       "    <tr>\n",
       "        <td>109 04 0A 080.00</td>\n",
       "        <td>None</td>\n",
       "        <td>109 04 0A 080.00</td>\n",
       "        <td>2537  JANALYN TRCE, HERMITAGE</td>\n",
       "        <td>2537  JANALYN TRCE, HERMITAGE</td>\n",
       "    </tr>\n",
       "    <tr>\n",
       "        <td>110 03 0A 061.00</td>\n",
       "        <td>None</td>\n",
       "        <td>110 03 0A 061.00</td>\n",
       "        <td>2704  ALVIN SPERRY PASS, MOUNT JULIET</td>\n",
       "        <td>2704  ALVIN SPERRY PASS, MOUNT JULIET</td>\n",
       "    </tr>\n",
       "    <tr>\n",
       "        <td>113 14 0A 002.00</td>\n",
       "        <td>None</td>\n",
       "        <td>113 14 0A 002.00</td>\n",
       "        <td>7601  CHIPMUNK LN, NASHVILLE</td>\n",
       "        <td>7601  CHIPMUNK LN, NASHVILLE</td>\n",
       "    </tr>\n",
       "    <tr>\n",
       "        <td>114 15 0A 030.00</td>\n",
       "        <td>None</td>\n",
       "        <td>114 15 0A 030.00</td>\n",
       "        <td>109  CEDAR PLACE BND, NASHVILLE</td>\n",
       "        <td>109  CEDAR PLACE BND, NASHVILLE</td>\n",
       "    </tr>\n",
       "</table>"
      ],
      "text/plain": [
       "[('025 07 0 031.00', None, '025 07 0 031.00', '410  ROSEHILL CT, GOODLETTSVILLE', '410  ROSEHILL CT, GOODLETTSVILLE'),\n",
       " ('026 01 0 069.00', None, '026 01 0 069.00', '141  TWO MILE PIKE, GOODLETTSVILLE', '141  TWO MILE PIKE, GOODLETTSVILLE'),\n",
       " ('026 05 0 017.00', None, '026 05 0 017.00', '208  EAST AVE, GOODLETTSVILLE', '208  EAST AVE, GOODLETTSVILLE'),\n",
       " ('026 06 0A 038.00', None, '026 06 0A 038.00', '109  CANTON CT, GOODLETTSVILLE', '109  CANTON CT, GOODLETTSVILLE'),\n",
       " ('033 06 0 041.00', None, '033 06 0 041.00', '1129  CAMPBELL RD, GOODLETTSVILLE', '1129  CAMPBELL RD, GOODLETTSVILLE'),\n",
       " ('033 06 0A 002.00', None, '033 06 0A 002.00', '1116  CAMPBELL RD, GOODLETTSVILLE', '1116  CAMPBELL RD, GOODLETTSVILLE'),\n",
       " ('033 15 0 123.00', None, '033 15 0 123.00', '438  W CAMPBELL RD, GOODLETTSVILLE', '438  W CAMPBELL RD, GOODLETTSVILLE'),\n",
       " ('034 03 0 059.00', None, '034 03 0 059.00', '2117  PAULA DR, MADISON', '2117  PAULA DR, MADISON'),\n",
       " ('034 03 0 059.00', None, '034 03 0 059.00', '2117  PAULA DR, MADISON', '2117  PAULA DR, MADISON'),\n",
       " ('034 07 0B 015.00', None, '034 07 0B 015.00', '2524  VAL MARIE DR, MADISON', '2524  VAL MARIE DR, MADISON'),\n",
       " ('034 07 0B 015.00', None, '034 07 0B 015.00', '2524  VAL MARIE DR, MADISON', '2524  VAL MARIE DR, MADISON'),\n",
       " ('034 07 0B 015.00', None, '034 07 0B 015.00', '2524 VAL MARIE  DR, MADISON', '2524 VAL MARIE  DR, MADISON'),\n",
       " ('034 16 0A 004.00', None, '034 16 0A 004.00', '213 WARREN  CT, OLD HICKORY', '213 WARREN  CT, OLD HICKORY'),\n",
       " ('041 03 0A 100.00', None, '041 03 0A 100.00', '1289  GOODMORNING DR, NASHVILLE', '1289  GOODMORNING DR, NASHVILLE'),\n",
       " ('042 13 0 075.00', None, '042 13 0 075.00', '222  FOXBORO DR, MADISON', '222  FOXBORO DR, MADISON'),\n",
       " ('043 04 0 014.00', None, '043 04 0 014.00', '112  HILLER DR, OLD HICKORY', '112  HILLER DR, OLD HICKORY'),\n",
       " ('043 09 0 074.00', None, '043 09 0 074.00', '213 B  LOVELL ST, MADISON', '213 B  LOVELL ST, MADISON'),\n",
       " ('043 13 0 308.00', None, '043 13 0 308.00', '224  HICKORY ST, MADISON', '224  HICKORY ST, MADISON'),\n",
       " ('044 05 0 135.00', None, '044 05 0 135.00', '202  KEETON AVE, OLD HICKORY', '202  KEETON AVE, OLD HICKORY'),\n",
       " ('052 01 0 296.00', None, '052 01 0 296.00', '726  IDLEWILD DR, MADISON', '726  IDLEWILD DR, MADISON'),\n",
       " ('052 08 0A 320.00', None, '052 08 0A 320.00', '608  SANDY SPRING TRL, MADISON', '608  SANDY SPRING TRL, MADISON'),\n",
       " ('092 06 0 273.00', None, '092 06 0 273.00', '2721  HERMAN ST, NASHVILLE', '2721  HERMAN ST, NASHVILLE'),\n",
       " ('092 06 0 282.00', None, '092 06 0 282.00', '815  31ST AVE N, NASHVILLE', '815  31ST AVE N, NASHVILLE'),\n",
       " ('092 13 0 322.00', None, '092 13 0 322.00', '237  37TH AVE N, NASHVILLE', '237  37TH AVE N, NASHVILLE'),\n",
       " ('092 13 0 322.00', None, '092 13 0 322.00', '237  37TH AVE N, NASHVILLE', '237  37TH AVE N, NASHVILLE'),\n",
       " ('092 13 0 339.00', None, '092 13 0 339.00', '311  35TH AVE N, NASHVILLE', '311  35TH AVE N, NASHVILLE'),\n",
       " ('093 08 0 054.00', None, '093 08 0 054.00', '700  GLENVIEW DR, NASHVILLE', '700  GLENVIEW DR, NASHVILLE'),\n",
       " ('093 08 0 054.00', None, '093 08 0 054.00', '700  GLENVIEW DR, NASHVILLE', '700  GLENVIEW DR, NASHVILLE'),\n",
       " ('107 13 0 107.00', None, '107 13 0 107.00', '1205  THOMPSON PL, NASHVILLE', '1205  THOMPSON PL, NASHVILLE'),\n",
       " ('108 07 0A 026.00', None, '108 07 0A 026.00', '908  PATIO DR, NASHVILLE', '908  PATIO DR, NASHVILLE'),\n",
       " ('108 07 0A 026.00', None, '108 07 0A 026.00', '908  PATIO DR, NASHVILLE', '908  PATIO DR, NASHVILLE'),\n",
       " ('109 04 0A 080.00', None, '109 04 0A 080.00', '2537  JANALYN TRCE, HERMITAGE', '2537  JANALYN TRCE, HERMITAGE'),\n",
       " ('110 03 0A 061.00', None, '110 03 0A 061.00', '2704  ALVIN SPERRY PASS, MOUNT JULIET', '2704  ALVIN SPERRY PASS, MOUNT JULIET'),\n",
       " ('113 14 0A 002.00', None, '113 14 0A 002.00', '7601  CHIPMUNK LN, NASHVILLE', '7601  CHIPMUNK LN, NASHVILLE'),\n",
       " ('114 15 0A 030.00', None, '114 15 0A 030.00', '109  CEDAR PLACE BND, NASHVILLE', '109  CEDAR PLACE BND, NASHVILLE')]"
      ]
     },
     "execution_count": 19,
     "metadata": {},
     "output_type": "execute_result"
    }
   ],
   "source": [
    "%%sql\n",
    "\n",
    "SELECT \n",
    "    a.ParcelID as ParcelID_a, \n",
    "    a.PropertyAddress as PropertyAddress_a, \n",
    "    b.ParcelID as ParcelID_b, \n",
    "    b.PropertyAddress as PropertyAddress_b, \n",
    "    IFNULL(a.PropertyAddress, b.PropertyAddress) AS MergedPropertyAddress\n",
    "FROM \n",
    "    nashville_housing a\n",
    "JOIN \n",
    "    nashville_housing b\n",
    "    ON a.ParcelID = b.ParcelID\n",
    "    AND a.[UniqueID] <> b.[UniqueID]\n",
    "WHERE \n",
    "    a.PropertyAddress IS NULL;"
   ]
  },
  {
   "cell_type": "code",
   "execution_count": 20,
   "metadata": {},
   "outputs": [
    {
     "name": "stdout",
     "output_type": "stream",
     "text": [
      " * sqlite:///NashvilleHousing.db\n",
      "29 rows affected.\n"
     ]
    },
    {
     "data": {
      "text/plain": [
       "[]"
      ]
     },
     "execution_count": 20,
     "metadata": {},
     "output_type": "execute_result"
    }
   ],
   "source": [
    "%%sql\n",
    "\n",
    "UPDATE nashville_housing AS a\n",
    "SET PropertyAddress = (\n",
    "    SELECT b.PropertyAddress\n",
    "    FROM nashville_housing AS b\n",
    "    WHERE a.ParcelID = b.ParcelID\n",
    "      AND a.[UniqueID] <> b.[UniqueID]\n",
    "      AND b.PropertyAddress IS NOT NULL\n",
    "    LIMIT 1\n",
    "\t)\n",
    "WHERE a.PropertyAddress IS NULL;"
   ]
  },
  {
   "cell_type": "markdown",
   "metadata": {},
   "source": [
    "- Verify update"
   ]
  },
  {
   "cell_type": "code",
   "execution_count": 22,
   "metadata": {},
   "outputs": [
    {
     "name": "stdout",
     "output_type": "stream",
     "text": [
      " * sqlite:///NashvilleHousing.db\n",
      "Done.\n"
     ]
    },
    {
     "data": {
      "text/html": [
       "<table>\n",
       "    <tr>\n",
       "        <th>COUNT(*)</th>\n",
       "    </tr>\n",
       "    <tr>\n",
       "        <td>0</td>\n",
       "    </tr>\n",
       "</table>"
      ],
      "text/plain": [
       "[(0,)]"
      ]
     },
     "execution_count": 22,
     "metadata": {},
     "output_type": "execute_result"
    }
   ],
   "source": [
    "%%sql\n",
    "\n",
    "SELECT COUNT(*)\n",
    "FROM nashville_housing\n",
    "WHERE PropertyAddress IS NULL;"
   ]
  },
  {
   "cell_type": "markdown",
   "metadata": {},
   "source": [
    "#### Separate PropertyAddress into different columns: Address & City"
   ]
  },
  {
   "cell_type": "code",
   "execution_count": 32,
   "metadata": {},
   "outputs": [
    {
     "name": "stdout",
     "output_type": "stream",
     "text": [
      " * sqlite:///NashvilleHousing.db\n",
      "Done.\n"
     ]
    },
    {
     "data": {
      "text/html": [
       "<table>\n",
       "    <tr>\n",
       "        <th>PropertyStreet</th>\n",
       "        <th>PropertyCity</th>\n",
       "    </tr>\n",
       "    <tr>\n",
       "        <td>1808  FOX CHASE DR</td>\n",
       "        <td> GOODLETTSVILLE</td>\n",
       "    </tr>\n",
       "    <tr>\n",
       "        <td>1832  FOX CHASE DR</td>\n",
       "        <td> GOODLETTSVILLE</td>\n",
       "    </tr>\n",
       "    <tr>\n",
       "        <td>1864 FOX CHASE  DR</td>\n",
       "        <td> GOODLETTSVILLE</td>\n",
       "    </tr>\n",
       "    <tr>\n",
       "        <td>1853  FOX CHASE DR</td>\n",
       "        <td> GOODLETTSVILLE</td>\n",
       "    </tr>\n",
       "    <tr>\n",
       "        <td>1829  FOX CHASE DR</td>\n",
       "        <td> GOODLETTSVILLE</td>\n",
       "    </tr>\n",
       "    <tr>\n",
       "        <td>1821  FOX CHASE DR</td>\n",
       "        <td> GOODLETTSVILLE</td>\n",
       "    </tr>\n",
       "    <tr>\n",
       "        <td>2005  SADIE LN</td>\n",
       "        <td> GOODLETTSVILLE</td>\n",
       "    </tr>\n",
       "    <tr>\n",
       "        <td>1917 GRACELAND  DR</td>\n",
       "        <td> GOODLETTSVILLE</td>\n",
       "    </tr>\n",
       "    <tr>\n",
       "        <td>1428  SPRINGFIELD HWY</td>\n",
       "        <td> GOODLETTSVILLE</td>\n",
       "    </tr>\n",
       "    <tr>\n",
       "        <td>1420  SPRINGFIELD HWY</td>\n",
       "        <td> GOODLETTSVILLE</td>\n",
       "    </tr>\n",
       "</table>"
      ],
      "text/plain": [
       "[('1808  FOX CHASE DR', ' GOODLETTSVILLE'),\n",
       " ('1832  FOX CHASE DR', ' GOODLETTSVILLE'),\n",
       " ('1864 FOX CHASE  DR', ' GOODLETTSVILLE'),\n",
       " ('1853  FOX CHASE DR', ' GOODLETTSVILLE'),\n",
       " ('1829  FOX CHASE DR', ' GOODLETTSVILLE'),\n",
       " ('1821  FOX CHASE DR', ' GOODLETTSVILLE'),\n",
       " ('2005  SADIE LN', ' GOODLETTSVILLE'),\n",
       " ('1917 GRACELAND  DR', ' GOODLETTSVILLE'),\n",
       " ('1428  SPRINGFIELD HWY', ' GOODLETTSVILLE'),\n",
       " ('1420  SPRINGFIELD HWY', ' GOODLETTSVILLE')]"
      ]
     },
     "execution_count": 32,
     "metadata": {},
     "output_type": "execute_result"
    }
   ],
   "source": [
    "%%sql\n",
    "\n",
    "SELECT \n",
    "    SUBSTR(PropertyAddress, 1, INSTR(PropertyAddress, ',') - 1) AS PropertyStreet,\n",
    "    SUBSTR(PropertyAddress, INSTR(PropertyAddress, ',') + 1) AS PropertyCity\n",
    "FROM nashville_housing\n",
    "LIMIT 10"
   ]
  },
  {
   "cell_type": "code",
   "execution_count": 33,
   "metadata": {},
   "outputs": [
    {
     "name": "stdout",
     "output_type": "stream",
     "text": [
      " * sqlite:///NashvilleHousing.db\n",
      "Done.\n"
     ]
    },
    {
     "data": {
      "text/plain": [
       "[]"
      ]
     },
     "execution_count": 33,
     "metadata": {},
     "output_type": "execute_result"
    }
   ],
   "source": [
    "%%sql\n",
    "\n",
    "ALTER TABLE nashville_housing ADD COLUMN PropertyStreet VARCHAR(255);"
   ]
  },
  {
   "cell_type": "code",
   "execution_count": 34,
   "metadata": {},
   "outputs": [
    {
     "name": "stdout",
     "output_type": "stream",
     "text": [
      " * sqlite:///NashvilleHousing.db\n",
      "Done.\n"
     ]
    },
    {
     "data": {
      "text/plain": [
       "[]"
      ]
     },
     "execution_count": 34,
     "metadata": {},
     "output_type": "execute_result"
    }
   ],
   "source": [
    "%%sql\n",
    "\n",
    "ALTER TABLE nashville_housing ADD COLUMN PropertyCity VARCHAR(100);"
   ]
  },
  {
   "cell_type": "code",
   "execution_count": 35,
   "metadata": {},
   "outputs": [
    {
     "name": "stdout",
     "output_type": "stream",
     "text": [
      " * sqlite:///NashvilleHousing.db\n",
      "56477 rows affected.\n"
     ]
    },
    {
     "data": {
      "text/plain": [
       "[]"
      ]
     },
     "execution_count": 35,
     "metadata": {},
     "output_type": "execute_result"
    }
   ],
   "source": [
    "%%sql\n",
    "\n",
    "UPDATE nashville_housing\n",
    "SET \n",
    "    PropertyStreet = SUBSTR(PropertyAddress, 1, INSTR(PropertyAddress, ',') - 1),\n",
    "    PropertyCity = SUBSTR(PropertyAddress, INSTR(PropertyAddress, ',') + 1);"
   ]
  },
  {
   "cell_type": "code",
   "execution_count": 39,
   "metadata": {},
   "outputs": [
    {
     "name": "stdout",
     "output_type": "stream",
     "text": [
      " * sqlite:///NashvilleHousing.db\n",
      "Done.\n"
     ]
    },
    {
     "data": {
      "text/html": [
       "<table>\n",
       "    <tr>\n",
       "        <th>UniqueID</th>\n",
       "        <th>ParcelID</th>\n",
       "        <th>LandUse</th>\n",
       "        <th>PropertyAddress</th>\n",
       "        <th>SaleDate</th>\n",
       "        <th>SalePrice</th>\n",
       "        <th>LegalReference</th>\n",
       "        <th>SoldAsVacant</th>\n",
       "        <th>OwnerName</th>\n",
       "        <th>OwnerAddress</th>\n",
       "        <th>Acreage</th>\n",
       "        <th>TaxDistrict</th>\n",
       "        <th>LandValue</th>\n",
       "        <th>BuildingValue</th>\n",
       "        <th>TotalValue</th>\n",
       "        <th>YearBuilt</th>\n",
       "        <th>Bedrooms</th>\n",
       "        <th>FullBath</th>\n",
       "        <th>HalfBath</th>\n",
       "        <th>PropertyStreet</th>\n",
       "        <th>PropertyCity</th>\n",
       "    </tr>\n",
       "    <tr>\n",
       "        <td>2045</td>\n",
       "        <td>007 00 0 125.00</td>\n",
       "        <td>SINGLE FAMILY</td>\n",
       "        <td>1808  FOX CHASE DR, GOODLETTSVILLE</td>\n",
       "        <td>2013-04-09</td>\n",
       "        <td>240000</td>\n",
       "        <td>20130412-0036474</td>\n",
       "        <td>No</td>\n",
       "        <td>FRAZIER, CYRENTHA LYNETTE</td>\n",
       "        <td>1808  FOX CHASE DR, GOODLETTSVILLE, TN</td>\n",
       "        <td>2.3</td>\n",
       "        <td>GENERAL SERVICES DISTRICT</td>\n",
       "        <td>50000.0</td>\n",
       "        <td>168200.0</td>\n",
       "        <td>235700.0</td>\n",
       "        <td>1986.0</td>\n",
       "        <td>3.0</td>\n",
       "        <td>3.0</td>\n",
       "        <td>0.0</td>\n",
       "        <td>1808  FOX CHASE DR</td>\n",
       "        <td> GOODLETTSVILLE</td>\n",
       "    </tr>\n",
       "    <tr>\n",
       "        <td>16918</td>\n",
       "        <td>007 00 0 130.00</td>\n",
       "        <td>SINGLE FAMILY</td>\n",
       "        <td>1832  FOX CHASE DR, GOODLETTSVILLE</td>\n",
       "        <td>2014-06-10</td>\n",
       "        <td>366000</td>\n",
       "        <td>20140619-0053768</td>\n",
       "        <td>No</td>\n",
       "        <td>BONER, CHARLES &amp; LESLIE</td>\n",
       "        <td>1832  FOX CHASE DR, GOODLETTSVILLE, TN</td>\n",
       "        <td>3.5</td>\n",
       "        <td>GENERAL SERVICES DISTRICT</td>\n",
       "        <td>50000.0</td>\n",
       "        <td>264100.0</td>\n",
       "        <td>319000.0</td>\n",
       "        <td>1998.0</td>\n",
       "        <td>3.0</td>\n",
       "        <td>3.0</td>\n",
       "        <td>2.0</td>\n",
       "        <td>1832  FOX CHASE DR</td>\n",
       "        <td> GOODLETTSVILLE</td>\n",
       "    </tr>\n",
       "    <tr>\n",
       "        <td>54582</td>\n",
       "        <td>007 00 0 138.00</td>\n",
       "        <td>SINGLE FAMILY</td>\n",
       "        <td>1864 FOX CHASE  DR, GOODLETTSVILLE</td>\n",
       "        <td>2016-09-26</td>\n",
       "        <td>435000</td>\n",
       "        <td>20160927-0101718</td>\n",
       "        <td>No</td>\n",
       "        <td>WILSON, JAMES E. &amp; JOANNE</td>\n",
       "        <td>1864  FOX CHASE DR, GOODLETTSVILLE, TN</td>\n",
       "        <td>2.9</td>\n",
       "        <td>GENERAL SERVICES DISTRICT</td>\n",
       "        <td>50000.0</td>\n",
       "        <td>216200.0</td>\n",
       "        <td>298000.0</td>\n",
       "        <td>1987.0</td>\n",
       "        <td>4.0</td>\n",
       "        <td>3.0</td>\n",
       "        <td>0.0</td>\n",
       "        <td>1864 FOX CHASE  DR</td>\n",
       "        <td> GOODLETTSVILLE</td>\n",
       "    </tr>\n",
       "    <tr>\n",
       "        <td>43070</td>\n",
       "        <td>007 00 0 143.00</td>\n",
       "        <td>SINGLE FAMILY</td>\n",
       "        <td>1853  FOX CHASE DR, GOODLETTSVILLE</td>\n",
       "        <td>2016-01-29</td>\n",
       "        <td>255000</td>\n",
       "        <td>20160129-0008913</td>\n",
       "        <td>No</td>\n",
       "        <td>BAKER, JAY K. &amp; SUSAN E.</td>\n",
       "        <td>1853  FOX CHASE DR, GOODLETTSVILLE, TN</td>\n",
       "        <td>2.6</td>\n",
       "        <td>GENERAL SERVICES DISTRICT</td>\n",
       "        <td>50000.0</td>\n",
       "        <td>147300.0</td>\n",
       "        <td>197300.0</td>\n",
       "        <td>1985.0</td>\n",
       "        <td>3.0</td>\n",
       "        <td>3.0</td>\n",
       "        <td>0.0</td>\n",
       "        <td>1853  FOX CHASE DR</td>\n",
       "        <td> GOODLETTSVILLE</td>\n",
       "    </tr>\n",
       "    <tr>\n",
       "        <td>22714</td>\n",
       "        <td>007 00 0 149.00</td>\n",
       "        <td>SINGLE FAMILY</td>\n",
       "        <td>1829  FOX CHASE DR, GOODLETTSVILLE</td>\n",
       "        <td>2014-10-10</td>\n",
       "        <td>278000</td>\n",
       "        <td>20141015-0095255</td>\n",
       "        <td>No</td>\n",
       "        <td>POST, CHRISTOPHER M. &amp; SAMANTHA C.</td>\n",
       "        <td>1829  FOX CHASE DR, GOODLETTSVILLE, TN</td>\n",
       "        <td>2.0</td>\n",
       "        <td>GENERAL SERVICES DISTRICT</td>\n",
       "        <td>50000.0</td>\n",
       "        <td>152300.0</td>\n",
       "        <td>202300.0</td>\n",
       "        <td>1984.0</td>\n",
       "        <td>4.0</td>\n",
       "        <td>3.0</td>\n",
       "        <td>0.0</td>\n",
       "        <td>1829  FOX CHASE DR</td>\n",
       "        <td> GOODLETTSVILLE</td>\n",
       "    </tr>\n",
       "</table>"
      ],
      "text/plain": [
       "[(2045, '007 00 0 125.00', 'SINGLE FAMILY', '1808  FOX CHASE DR, GOODLETTSVILLE', '2013-04-09', 240000, '20130412-0036474', 'No', 'FRAZIER, CYRENTHA LYNETTE', '1808  FOX CHASE DR, GOODLETTSVILLE, TN', 2.3, 'GENERAL SERVICES DISTRICT', 50000.0, 168200.0, 235700.0, 1986.0, 3.0, 3.0, 0.0, '1808  FOX CHASE DR', ' GOODLETTSVILLE'),\n",
       " (16918, '007 00 0 130.00', 'SINGLE FAMILY', '1832  FOX CHASE DR, GOODLETTSVILLE', '2014-06-10', 366000, '20140619-0053768', 'No', 'BONER, CHARLES & LESLIE', '1832  FOX CHASE DR, GOODLETTSVILLE, TN', 3.5, 'GENERAL SERVICES DISTRICT', 50000.0, 264100.0, 319000.0, 1998.0, 3.0, 3.0, 2.0, '1832  FOX CHASE DR', ' GOODLETTSVILLE'),\n",
       " (54582, '007 00 0 138.00', 'SINGLE FAMILY', '1864 FOX CHASE  DR, GOODLETTSVILLE', '2016-09-26', 435000, '20160927-0101718', 'No', 'WILSON, JAMES E. & JOANNE', '1864  FOX CHASE DR, GOODLETTSVILLE, TN', 2.9, 'GENERAL SERVICES DISTRICT', 50000.0, 216200.0, 298000.0, 1987.0, 4.0, 3.0, 0.0, '1864 FOX CHASE  DR', ' GOODLETTSVILLE'),\n",
       " (43070, '007 00 0 143.00', 'SINGLE FAMILY', '1853  FOX CHASE DR, GOODLETTSVILLE', '2016-01-29', 255000, '20160129-0008913', 'No', 'BAKER, JAY K. & SUSAN E.', '1853  FOX CHASE DR, GOODLETTSVILLE, TN', 2.6, 'GENERAL SERVICES DISTRICT', 50000.0, 147300.0, 197300.0, 1985.0, 3.0, 3.0, 0.0, '1853  FOX CHASE DR', ' GOODLETTSVILLE'),\n",
       " (22714, '007 00 0 149.00', 'SINGLE FAMILY', '1829  FOX CHASE DR, GOODLETTSVILLE', '2014-10-10', 278000, '20141015-0095255', 'No', 'POST, CHRISTOPHER M. & SAMANTHA C.', '1829  FOX CHASE DR, GOODLETTSVILLE, TN', 2.0, 'GENERAL SERVICES DISTRICT', 50000.0, 152300.0, 202300.0, 1984.0, 4.0, 3.0, 0.0, '1829  FOX CHASE DR', ' GOODLETTSVILLE')]"
      ]
     },
     "execution_count": 39,
     "metadata": {},
     "output_type": "execute_result"
    }
   ],
   "source": [
    "%%sql\n",
    "\n",
    "SELECT *\n",
    "FROM nashville_housing\n",
    "LIMIT 5;"
   ]
  },
  {
   "cell_type": "markdown",
   "metadata": {},
   "source": [
    "#### Now the same for OwnerAddress..."
   ]
  },
  {
   "cell_type": "code",
   "execution_count": 51,
   "metadata": {},
   "outputs": [
    {
     "name": "stdout",
     "output_type": "stream",
     "text": [
      " * sqlite:///NashvilleHousing.db\n",
      "Done.\n"
     ]
    },
    {
     "data": {
      "text/html": [
       "<table>\n",
       "    <tr>\n",
       "        <th>OwnerAddress</th>\n",
       "    </tr>\n",
       "    <tr>\n",
       "        <td>1808  FOX CHASE DR, GOODLETTSVILLE, TN</td>\n",
       "    </tr>\n",
       "    <tr>\n",
       "        <td>1832  FOX CHASE DR, GOODLETTSVILLE, TN</td>\n",
       "    </tr>\n",
       "    <tr>\n",
       "        <td>1864  FOX CHASE DR, GOODLETTSVILLE, TN</td>\n",
       "    </tr>\n",
       "    <tr>\n",
       "        <td>1853  FOX CHASE DR, GOODLETTSVILLE, TN</td>\n",
       "    </tr>\n",
       "    <tr>\n",
       "        <td>1829  FOX CHASE DR, GOODLETTSVILLE, TN</td>\n",
       "    </tr>\n",
       "    <tr>\n",
       "        <td>1821  FOX CHASE DR, GOODLETTSVILLE, TN</td>\n",
       "    </tr>\n",
       "    <tr>\n",
       "        <td>2005  SADIE LN, GOODLETTSVILLE, TN</td>\n",
       "    </tr>\n",
       "    <tr>\n",
       "        <td>1917  GRACELAND DR, GOODLETTSVILLE, TN</td>\n",
       "    </tr>\n",
       "    <tr>\n",
       "        <td>1428  SPRINGFIELD HWY, GOODLETTSVILLE, TN</td>\n",
       "    </tr>\n",
       "    <tr>\n",
       "        <td>1420  SPRINGFIELD HWY, GOODLETTSVILLE, TN</td>\n",
       "    </tr>\n",
       "</table>"
      ],
      "text/plain": [
       "[('1808  FOX CHASE DR, GOODLETTSVILLE, TN',),\n",
       " ('1832  FOX CHASE DR, GOODLETTSVILLE, TN',),\n",
       " ('1864  FOX CHASE DR, GOODLETTSVILLE, TN',),\n",
       " ('1853  FOX CHASE DR, GOODLETTSVILLE, TN',),\n",
       " ('1829  FOX CHASE DR, GOODLETTSVILLE, TN',),\n",
       " ('1821  FOX CHASE DR, GOODLETTSVILLE, TN',),\n",
       " ('2005  SADIE LN, GOODLETTSVILLE, TN',),\n",
       " ('1917  GRACELAND DR, GOODLETTSVILLE, TN',),\n",
       " ('1428  SPRINGFIELD HWY, GOODLETTSVILLE, TN',),\n",
       " ('1420  SPRINGFIELD HWY, GOODLETTSVILLE, TN',)]"
      ]
     },
     "execution_count": 51,
     "metadata": {},
     "output_type": "execute_result"
    }
   ],
   "source": [
    "%%sql\n",
    "SELECT OwnerAddress\n",
    "FROM nashville_housing\n",
    "LIMIT 10;"
   ]
  },
  {
   "cell_type": "code",
   "execution_count": 45,
   "metadata": {},
   "outputs": [
    {
     "name": "stdout",
     "output_type": "stream",
     "text": [
      " * sqlite:///NashvilleHousing.db\n",
      "Done.\n"
     ]
    },
    {
     "data": {
      "text/html": [
       "<table>\n",
       "    <tr>\n",
       "        <th>OwnerStreet</th>\n",
       "        <th>OwnerCity</th>\n",
       "        <th>OwnerState</th>\n",
       "    </tr>\n",
       "    <tr>\n",
       "        <td>1808  FOX CHASE DR</td>\n",
       "        <td>GOODLETTSVILLE</td>\n",
       "        <td>TN</td>\n",
       "    </tr>\n",
       "    <tr>\n",
       "        <td>1832  FOX CHASE DR</td>\n",
       "        <td>GOODLETTSVILLE</td>\n",
       "        <td>TN</td>\n",
       "    </tr>\n",
       "    <tr>\n",
       "        <td>1864  FOX CHASE DR</td>\n",
       "        <td>GOODLETTSVILLE</td>\n",
       "        <td>TN</td>\n",
       "    </tr>\n",
       "    <tr>\n",
       "        <td>1853  FOX CHASE DR</td>\n",
       "        <td>GOODLETTSVILLE</td>\n",
       "        <td>TN</td>\n",
       "    </tr>\n",
       "    <tr>\n",
       "        <td>1829  FOX CHASE DR</td>\n",
       "        <td>GOODLETTSVILLE</td>\n",
       "        <td>TN</td>\n",
       "    </tr>\n",
       "    <tr>\n",
       "        <td>1821  FOX CHASE DR</td>\n",
       "        <td>GOODLETTSVILLE</td>\n",
       "        <td>TN</td>\n",
       "    </tr>\n",
       "    <tr>\n",
       "        <td>2005  SADIE LN</td>\n",
       "        <td>GOODLETTSVILLE</td>\n",
       "        <td>TN</td>\n",
       "    </tr>\n",
       "    <tr>\n",
       "        <td>1917  GRACELAND DR</td>\n",
       "        <td>GOODLETTSVILLE</td>\n",
       "        <td>TN</td>\n",
       "    </tr>\n",
       "    <tr>\n",
       "        <td>1428  SPRINGFIELD HWY</td>\n",
       "        <td>GOODLETTSVILLE</td>\n",
       "        <td>TN</td>\n",
       "    </tr>\n",
       "    <tr>\n",
       "        <td>1420  SPRINGFIELD HWY</td>\n",
       "        <td>GOODLETTSVILLE</td>\n",
       "        <td>TN</td>\n",
       "    </tr>\n",
       "</table>"
      ],
      "text/plain": [
       "[('1808  FOX CHASE DR', 'GOODLETTSVILLE', 'TN'),\n",
       " ('1832  FOX CHASE DR', 'GOODLETTSVILLE', 'TN'),\n",
       " ('1864  FOX CHASE DR', 'GOODLETTSVILLE', 'TN'),\n",
       " ('1853  FOX CHASE DR', 'GOODLETTSVILLE', 'TN'),\n",
       " ('1829  FOX CHASE DR', 'GOODLETTSVILLE', 'TN'),\n",
       " ('1821  FOX CHASE DR', 'GOODLETTSVILLE', 'TN'),\n",
       " ('2005  SADIE LN', 'GOODLETTSVILLE', 'TN'),\n",
       " ('1917  GRACELAND DR', 'GOODLETTSVILLE', 'TN'),\n",
       " ('1428  SPRINGFIELD HWY', 'GOODLETTSVILLE', 'TN'),\n",
       " ('1420  SPRINGFIELD HWY', 'GOODLETTSVILLE', 'TN')]"
      ]
     },
     "execution_count": 45,
     "metadata": {},
     "output_type": "execute_result"
    }
   ],
   "source": [
    "%%sql\n",
    "SELECT\n",
    "    TRIM(SUBSTR(OwnerAddress, 1, INSTR(OwnerAddress, ',') - 1)) AS OwnerStreet,\n",
    "    TRIM(SUBSTR(OwnerAddress, INSTR(OwnerAddress, ',') + 1, INSTR(SUBSTR(OwnerAddress, INSTR(OwnerAddress, ',') + 1), ',') - 1)) AS OwnerCity,\n",
    "    TRIM(SUBSTR(OwnerAddress, INSTR(OwnerAddress, ',') + INSTR(SUBSTR(OwnerAddress, INSTR(OwnerAddress, ',') + 1), ',') + 1)) AS OwnerState\n",
    "FROM nashville_housing\n",
    "LIMIT 10;"
   ]
  },
  {
   "cell_type": "code",
   "execution_count": 46,
   "metadata": {},
   "outputs": [
    {
     "name": "stdout",
     "output_type": "stream",
     "text": [
      " * sqlite:///NashvilleHousing.db\n",
      "Done.\n"
     ]
    },
    {
     "data": {
      "text/plain": [
       "[]"
      ]
     },
     "execution_count": 46,
     "metadata": {},
     "output_type": "execute_result"
    }
   ],
   "source": [
    "%%sql\n",
    "\n",
    "ALTER TABLE nashville_housing ADD COLUMN OwnerStreet VARCHAR(255);"
   ]
  },
  {
   "cell_type": "code",
   "execution_count": 47,
   "metadata": {},
   "outputs": [
    {
     "name": "stdout",
     "output_type": "stream",
     "text": [
      " * sqlite:///NashvilleHousing.db\n",
      "Done.\n"
     ]
    },
    {
     "data": {
      "text/plain": [
       "[]"
      ]
     },
     "execution_count": 47,
     "metadata": {},
     "output_type": "execute_result"
    }
   ],
   "source": [
    "%%sql\n",
    "\n",
    "ALTER TABLE nashville_housing ADD COLUMN OwnerCity VARCHAR(100);"
   ]
  },
  {
   "cell_type": "code",
   "execution_count": 48,
   "metadata": {},
   "outputs": [
    {
     "name": "stdout",
     "output_type": "stream",
     "text": [
      " * sqlite:///NashvilleHousing.db\n",
      "Done.\n"
     ]
    },
    {
     "data": {
      "text/plain": [
       "[]"
      ]
     },
     "execution_count": 48,
     "metadata": {},
     "output_type": "execute_result"
    }
   ],
   "source": [
    "%%sql\n",
    "\n",
    "ALTER TABLE nashville_housing ADD COLUMN OwnerState VARCHAR(20);"
   ]
  },
  {
   "cell_type": "code",
   "execution_count": 52,
   "metadata": {},
   "outputs": [
    {
     "name": "stdout",
     "output_type": "stream",
     "text": [
      " * sqlite:///NashvilleHousing.db\n",
      "56477 rows affected.\n"
     ]
    },
    {
     "data": {
      "text/plain": [
       "[]"
      ]
     },
     "execution_count": 52,
     "metadata": {},
     "output_type": "execute_result"
    }
   ],
   "source": [
    "%%sql\n",
    "\n",
    "UPDATE nashville_housing\n",
    "SET \n",
    "    OwnerStreet = TRIM(SUBSTR(OwnerAddress, 1, INSTR(OwnerAddress, ',') - 1)),\n",
    "    OwnerCity = TRIM(SUBSTR(OwnerAddress, INSTR(OwnerAddress, ',') + 1, INSTR(SUBSTR(OwnerAddress, INSTR(OwnerAddress, ',') + 1), ',') - 1)),\n",
    "    OwnerState = TRIM(SUBSTR(OwnerAddress, INSTR(OwnerAddress, ',') + INSTR(SUBSTR(OwnerAddress, INSTR(OwnerAddress, ',') + 1), ',') + 1));"
   ]
  },
  {
   "cell_type": "code",
   "execution_count": 53,
   "metadata": {},
   "outputs": [
    {
     "name": "stdout",
     "output_type": "stream",
     "text": [
      " * sqlite:///NashvilleHousing.db\n",
      "Done.\n"
     ]
    },
    {
     "data": {
      "text/html": [
       "<table>\n",
       "    <tr>\n",
       "        <th>UniqueID</th>\n",
       "        <th>ParcelID</th>\n",
       "        <th>LandUse</th>\n",
       "        <th>PropertyAddress</th>\n",
       "        <th>SaleDate</th>\n",
       "        <th>SalePrice</th>\n",
       "        <th>LegalReference</th>\n",
       "        <th>SoldAsVacant</th>\n",
       "        <th>OwnerName</th>\n",
       "        <th>OwnerAddress</th>\n",
       "        <th>Acreage</th>\n",
       "        <th>TaxDistrict</th>\n",
       "        <th>LandValue</th>\n",
       "        <th>BuildingValue</th>\n",
       "        <th>TotalValue</th>\n",
       "        <th>YearBuilt</th>\n",
       "        <th>Bedrooms</th>\n",
       "        <th>FullBath</th>\n",
       "        <th>HalfBath</th>\n",
       "        <th>PropertyStreet</th>\n",
       "        <th>PropertyCity</th>\n",
       "        <th>OwnerStreet</th>\n",
       "        <th>OwnerCity</th>\n",
       "        <th>OwnerState</th>\n",
       "    </tr>\n",
       "    <tr>\n",
       "        <td>2045</td>\n",
       "        <td>007 00 0 125.00</td>\n",
       "        <td>SINGLE FAMILY</td>\n",
       "        <td>1808  FOX CHASE DR, GOODLETTSVILLE</td>\n",
       "        <td>2013-04-09</td>\n",
       "        <td>240000</td>\n",
       "        <td>20130412-0036474</td>\n",
       "        <td>No</td>\n",
       "        <td>FRAZIER, CYRENTHA LYNETTE</td>\n",
       "        <td>1808  FOX CHASE DR, GOODLETTSVILLE, TN</td>\n",
       "        <td>2.3</td>\n",
       "        <td>GENERAL SERVICES DISTRICT</td>\n",
       "        <td>50000.0</td>\n",
       "        <td>168200.0</td>\n",
       "        <td>235700.0</td>\n",
       "        <td>1986.0</td>\n",
       "        <td>3.0</td>\n",
       "        <td>3.0</td>\n",
       "        <td>0.0</td>\n",
       "        <td>1808  FOX CHASE DR</td>\n",
       "        <td> GOODLETTSVILLE</td>\n",
       "        <td>1808  FOX CHASE DR</td>\n",
       "        <td>GOODLETTSVILLE</td>\n",
       "        <td>TN</td>\n",
       "    </tr>\n",
       "    <tr>\n",
       "        <td>16918</td>\n",
       "        <td>007 00 0 130.00</td>\n",
       "        <td>SINGLE FAMILY</td>\n",
       "        <td>1832  FOX CHASE DR, GOODLETTSVILLE</td>\n",
       "        <td>2014-06-10</td>\n",
       "        <td>366000</td>\n",
       "        <td>20140619-0053768</td>\n",
       "        <td>No</td>\n",
       "        <td>BONER, CHARLES &amp; LESLIE</td>\n",
       "        <td>1832  FOX CHASE DR, GOODLETTSVILLE, TN</td>\n",
       "        <td>3.5</td>\n",
       "        <td>GENERAL SERVICES DISTRICT</td>\n",
       "        <td>50000.0</td>\n",
       "        <td>264100.0</td>\n",
       "        <td>319000.0</td>\n",
       "        <td>1998.0</td>\n",
       "        <td>3.0</td>\n",
       "        <td>3.0</td>\n",
       "        <td>2.0</td>\n",
       "        <td>1832  FOX CHASE DR</td>\n",
       "        <td> GOODLETTSVILLE</td>\n",
       "        <td>1832  FOX CHASE DR</td>\n",
       "        <td>GOODLETTSVILLE</td>\n",
       "        <td>TN</td>\n",
       "    </tr>\n",
       "    <tr>\n",
       "        <td>54582</td>\n",
       "        <td>007 00 0 138.00</td>\n",
       "        <td>SINGLE FAMILY</td>\n",
       "        <td>1864 FOX CHASE  DR, GOODLETTSVILLE</td>\n",
       "        <td>2016-09-26</td>\n",
       "        <td>435000</td>\n",
       "        <td>20160927-0101718</td>\n",
       "        <td>No</td>\n",
       "        <td>WILSON, JAMES E. &amp; JOANNE</td>\n",
       "        <td>1864  FOX CHASE DR, GOODLETTSVILLE, TN</td>\n",
       "        <td>2.9</td>\n",
       "        <td>GENERAL SERVICES DISTRICT</td>\n",
       "        <td>50000.0</td>\n",
       "        <td>216200.0</td>\n",
       "        <td>298000.0</td>\n",
       "        <td>1987.0</td>\n",
       "        <td>4.0</td>\n",
       "        <td>3.0</td>\n",
       "        <td>0.0</td>\n",
       "        <td>1864 FOX CHASE  DR</td>\n",
       "        <td> GOODLETTSVILLE</td>\n",
       "        <td>1864  FOX CHASE DR</td>\n",
       "        <td>GOODLETTSVILLE</td>\n",
       "        <td>TN</td>\n",
       "    </tr>\n",
       "    <tr>\n",
       "        <td>43070</td>\n",
       "        <td>007 00 0 143.00</td>\n",
       "        <td>SINGLE FAMILY</td>\n",
       "        <td>1853  FOX CHASE DR, GOODLETTSVILLE</td>\n",
       "        <td>2016-01-29</td>\n",
       "        <td>255000</td>\n",
       "        <td>20160129-0008913</td>\n",
       "        <td>No</td>\n",
       "        <td>BAKER, JAY K. &amp; SUSAN E.</td>\n",
       "        <td>1853  FOX CHASE DR, GOODLETTSVILLE, TN</td>\n",
       "        <td>2.6</td>\n",
       "        <td>GENERAL SERVICES DISTRICT</td>\n",
       "        <td>50000.0</td>\n",
       "        <td>147300.0</td>\n",
       "        <td>197300.0</td>\n",
       "        <td>1985.0</td>\n",
       "        <td>3.0</td>\n",
       "        <td>3.0</td>\n",
       "        <td>0.0</td>\n",
       "        <td>1853  FOX CHASE DR</td>\n",
       "        <td> GOODLETTSVILLE</td>\n",
       "        <td>1853  FOX CHASE DR</td>\n",
       "        <td>GOODLETTSVILLE</td>\n",
       "        <td>TN</td>\n",
       "    </tr>\n",
       "    <tr>\n",
       "        <td>22714</td>\n",
       "        <td>007 00 0 149.00</td>\n",
       "        <td>SINGLE FAMILY</td>\n",
       "        <td>1829  FOX CHASE DR, GOODLETTSVILLE</td>\n",
       "        <td>2014-10-10</td>\n",
       "        <td>278000</td>\n",
       "        <td>20141015-0095255</td>\n",
       "        <td>No</td>\n",
       "        <td>POST, CHRISTOPHER M. &amp; SAMANTHA C.</td>\n",
       "        <td>1829  FOX CHASE DR, GOODLETTSVILLE, TN</td>\n",
       "        <td>2.0</td>\n",
       "        <td>GENERAL SERVICES DISTRICT</td>\n",
       "        <td>50000.0</td>\n",
       "        <td>152300.0</td>\n",
       "        <td>202300.0</td>\n",
       "        <td>1984.0</td>\n",
       "        <td>4.0</td>\n",
       "        <td>3.0</td>\n",
       "        <td>0.0</td>\n",
       "        <td>1829  FOX CHASE DR</td>\n",
       "        <td> GOODLETTSVILLE</td>\n",
       "        <td>1829  FOX CHASE DR</td>\n",
       "        <td>GOODLETTSVILLE</td>\n",
       "        <td>TN</td>\n",
       "    </tr>\n",
       "</table>"
      ],
      "text/plain": [
       "[(2045, '007 00 0 125.00', 'SINGLE FAMILY', '1808  FOX CHASE DR, GOODLETTSVILLE', '2013-04-09', 240000, '20130412-0036474', 'No', 'FRAZIER, CYRENTHA LYNETTE', '1808  FOX CHASE DR, GOODLETTSVILLE, TN', 2.3, 'GENERAL SERVICES DISTRICT', 50000.0, 168200.0, 235700.0, 1986.0, 3.0, 3.0, 0.0, '1808  FOX CHASE DR', ' GOODLETTSVILLE', '1808  FOX CHASE DR', 'GOODLETTSVILLE', 'TN'),\n",
       " (16918, '007 00 0 130.00', 'SINGLE FAMILY', '1832  FOX CHASE DR, GOODLETTSVILLE', '2014-06-10', 366000, '20140619-0053768', 'No', 'BONER, CHARLES & LESLIE', '1832  FOX CHASE DR, GOODLETTSVILLE, TN', 3.5, 'GENERAL SERVICES DISTRICT', 50000.0, 264100.0, 319000.0, 1998.0, 3.0, 3.0, 2.0, '1832  FOX CHASE DR', ' GOODLETTSVILLE', '1832  FOX CHASE DR', 'GOODLETTSVILLE', 'TN'),\n",
       " (54582, '007 00 0 138.00', 'SINGLE FAMILY', '1864 FOX CHASE  DR, GOODLETTSVILLE', '2016-09-26', 435000, '20160927-0101718', 'No', 'WILSON, JAMES E. & JOANNE', '1864  FOX CHASE DR, GOODLETTSVILLE, TN', 2.9, 'GENERAL SERVICES DISTRICT', 50000.0, 216200.0, 298000.0, 1987.0, 4.0, 3.0, 0.0, '1864 FOX CHASE  DR', ' GOODLETTSVILLE', '1864  FOX CHASE DR', 'GOODLETTSVILLE', 'TN'),\n",
       " (43070, '007 00 0 143.00', 'SINGLE FAMILY', '1853  FOX CHASE DR, GOODLETTSVILLE', '2016-01-29', 255000, '20160129-0008913', 'No', 'BAKER, JAY K. & SUSAN E.', '1853  FOX CHASE DR, GOODLETTSVILLE, TN', 2.6, 'GENERAL SERVICES DISTRICT', 50000.0, 147300.0, 197300.0, 1985.0, 3.0, 3.0, 0.0, '1853  FOX CHASE DR', ' GOODLETTSVILLE', '1853  FOX CHASE DR', 'GOODLETTSVILLE', 'TN'),\n",
       " (22714, '007 00 0 149.00', 'SINGLE FAMILY', '1829  FOX CHASE DR, GOODLETTSVILLE', '2014-10-10', 278000, '20141015-0095255', 'No', 'POST, CHRISTOPHER M. & SAMANTHA C.', '1829  FOX CHASE DR, GOODLETTSVILLE, TN', 2.0, 'GENERAL SERVICES DISTRICT', 50000.0, 152300.0, 202300.0, 1984.0, 4.0, 3.0, 0.0, '1829  FOX CHASE DR', ' GOODLETTSVILLE', '1829  FOX CHASE DR', 'GOODLETTSVILLE', 'TN')]"
      ]
     },
     "execution_count": 53,
     "metadata": {},
     "output_type": "execute_result"
    }
   ],
   "source": [
    "%%sql\n",
    "\n",
    "SELECT *\n",
    "FROM nashville_housing\n",
    "LIMIT 5;"
   ]
  },
  {
   "cell_type": "markdown",
   "metadata": {},
   "source": [
    "#### Encode \"SoldAsVacant\" column"
   ]
  },
  {
   "cell_type": "code",
   "execution_count": 60,
   "metadata": {},
   "outputs": [
    {
     "name": "stdout",
     "output_type": "stream",
     "text": [
      " * sqlite:///NashvilleHousing.db\n",
      "Done.\n"
     ]
    },
    {
     "data": {
      "text/html": [
       "<table>\n",
       "    <tr>\n",
       "        <th>SoldAsVacant</th>\n",
       "        <th>EncodedSoldAsVacant</th>\n",
       "    </tr>\n",
       "    <tr>\n",
       "        <td>No</td>\n",
       "        <td>0</td>\n",
       "    </tr>\n",
       "    <tr>\n",
       "        <td>No</td>\n",
       "        <td>0</td>\n",
       "    </tr>\n",
       "    <tr>\n",
       "        <td>No</td>\n",
       "        <td>0</td>\n",
       "    </tr>\n",
       "    <tr>\n",
       "        <td>No</td>\n",
       "        <td>0</td>\n",
       "    </tr>\n",
       "    <tr>\n",
       "        <td>No</td>\n",
       "        <td>0</td>\n",
       "    </tr>\n",
       "    <tr>\n",
       "        <td>No</td>\n",
       "        <td>0</td>\n",
       "    </tr>\n",
       "    <tr>\n",
       "        <td>No</td>\n",
       "        <td>0</td>\n",
       "    </tr>\n",
       "    <tr>\n",
       "        <td>No</td>\n",
       "        <td>0</td>\n",
       "    </tr>\n",
       "    <tr>\n",
       "        <td>No</td>\n",
       "        <td>0</td>\n",
       "    </tr>\n",
       "    <tr>\n",
       "        <td>No</td>\n",
       "        <td>0</td>\n",
       "    </tr>\n",
       "</table>"
      ],
      "text/plain": [
       "[('No', 0),\n",
       " ('No', 0),\n",
       " ('No', 0),\n",
       " ('No', 0),\n",
       " ('No', 0),\n",
       " ('No', 0),\n",
       " ('No', 0),\n",
       " ('No', 0),\n",
       " ('No', 0),\n",
       " ('No', 0)]"
      ]
     },
     "execution_count": 60,
     "metadata": {},
     "output_type": "execute_result"
    }
   ],
   "source": [
    "%%sql\n",
    "\n",
    "SELECT SoldAsVacant,\n",
    "       CASE \n",
    "           WHEN SoldAsVacant = 'Yes' THEN 1\n",
    "           WHEN SoldAsVacant = 'No' THEN 0\n",
    "           ELSE NULL\n",
    "       END AS EncodedSoldAsVacant\n",
    "FROM nashville_housing\n",
    "LIMIT 10;"
   ]
  },
  {
   "cell_type": "code",
   "execution_count": 61,
   "metadata": {},
   "outputs": [
    {
     "name": "stdout",
     "output_type": "stream",
     "text": [
      " * sqlite:///NashvilleHousing.db\n",
      "56477 rows affected.\n"
     ]
    },
    {
     "data": {
      "text/plain": [
       "[]"
      ]
     },
     "execution_count": 61,
     "metadata": {},
     "output_type": "execute_result"
    }
   ],
   "source": [
    "%%sql\n",
    "\n",
    "UPDATE nashville_housing\n",
    "SET SoldAsVacant = CASE \n",
    "                      WHEN SoldAsVacant = 'Yes' THEN 1\n",
    "                      WHEN SoldAsVacant = 'No' THEN 0\n",
    "                      ELSE NULL\n",
    "                   END;\n"
   ]
  },
  {
   "cell_type": "code",
   "execution_count": 62,
   "metadata": {},
   "outputs": [
    {
     "name": "stdout",
     "output_type": "stream",
     "text": [
      " * sqlite:///NashvilleHousing.db\n",
      "Done.\n"
     ]
    },
    {
     "data": {
      "text/html": [
       "<table>\n",
       "    <tr>\n",
       "        <th>SoldAsVacant</th>\n",
       "    </tr>\n",
       "    <tr>\n",
       "        <td>0</td>\n",
       "    </tr>\n",
       "    <tr>\n",
       "        <td>0</td>\n",
       "    </tr>\n",
       "    <tr>\n",
       "        <td>0</td>\n",
       "    </tr>\n",
       "    <tr>\n",
       "        <td>0</td>\n",
       "    </tr>\n",
       "    <tr>\n",
       "        <td>0</td>\n",
       "    </tr>\n",
       "    <tr>\n",
       "        <td>0</td>\n",
       "    </tr>\n",
       "    <tr>\n",
       "        <td>0</td>\n",
       "    </tr>\n",
       "    <tr>\n",
       "        <td>0</td>\n",
       "    </tr>\n",
       "    <tr>\n",
       "        <td>0</td>\n",
       "    </tr>\n",
       "    <tr>\n",
       "        <td>0</td>\n",
       "    </tr>\n",
       "</table>"
      ],
      "text/plain": [
       "[('0',),\n",
       " ('0',),\n",
       " ('0',),\n",
       " ('0',),\n",
       " ('0',),\n",
       " ('0',),\n",
       " ('0',),\n",
       " ('0',),\n",
       " ('0',),\n",
       " ('0',)]"
      ]
     },
     "execution_count": 62,
     "metadata": {},
     "output_type": "execute_result"
    }
   ],
   "source": [
    "%%sql\n",
    "\n",
    "SELECT SoldAsVacant\n",
    "FROM nashville_housing\n",
    "LIMIT 10;"
   ]
  },
  {
   "cell_type": "markdown",
   "metadata": {},
   "source": [
    "#### Handling duplicates"
   ]
  },
  {
   "cell_type": "code",
   "execution_count": 84,
   "metadata": {},
   "outputs": [
    {
     "name": "stdout",
     "output_type": "stream",
     "text": [
      " * sqlite:///NashvilleHousing.db\n",
      "Done.\n"
     ]
    },
    {
     "data": {
      "text/html": [
       "<table>\n",
       "    <tr>\n",
       "        <th>TotalDuplicatedRows</th>\n",
       "    </tr>\n",
       "    <tr>\n",
       "        <td>104</td>\n",
       "    </tr>\n",
       "</table>"
      ],
      "text/plain": [
       "[(104,)]"
      ]
     },
     "execution_count": 84,
     "metadata": {},
     "output_type": "execute_result"
    }
   ],
   "source": [
    "%%sql\n",
    "\n",
    "WITH DuplicatesCTE AS (\n",
    "    SELECT *,\n",
    "           ROW_NUMBER() OVER (\n",
    "               PARTITION BY ParcelID, \n",
    "                            PropertyAddress, \n",
    "                            SalePrice, \n",
    "                            SaleDate, \n",
    "                            LegalReference\n",
    "               ORDER BY UniqueID\n",
    "           ) AS Ocurrences\n",
    "    FROM nashville_housing\n",
    ")\n",
    "\n",
    "SELECT COUNT(*) AS TotalDuplicatedRows\n",
    "FROM DuplicatesCTE\n",
    "WHERE Ocurrences > 1;"
   ]
  },
  {
   "cell_type": "code",
   "execution_count": 85,
   "metadata": {},
   "outputs": [
    {
     "name": "stdout",
     "output_type": "stream",
     "text": [
      " * sqlite:///NashvilleHousing.db\n",
      "Done.\n"
     ]
    },
    {
     "data": {
      "text/plain": [
       "[]"
      ]
     },
     "execution_count": 85,
     "metadata": {},
     "output_type": "execute_result"
    }
   ],
   "source": [
    "%%sql\n",
    "\n",
    "WITH DuplicatesCTE AS (\n",
    "    SELECT *,\n",
    "           ROW_NUMBER() OVER (\n",
    "               PARTITION BY ParcelID, \n",
    "                            PropertyAddress, \n",
    "                            SalePrice, \n",
    "                            SaleDate, \n",
    "                            LegalReference\n",
    "               ORDER BY UniqueID\n",
    "           ) AS Ocurrences\n",
    "    FROM nashville_housing\n",
    ")\n",
    "DELETE FROM nashville_housing \n",
    "WHERE UniqueID IN (\n",
    "    SELECT UniqueID \n",
    "    FROM DuplicatesCTE \n",
    "    WHERE Ocurrences > 1\n",
    ");"
   ]
  },
  {
   "cell_type": "code",
   "execution_count": 86,
   "metadata": {},
   "outputs": [
    {
     "name": "stdout",
     "output_type": "stream",
     "text": [
      " * sqlite:///NashvilleHousing.db\n",
      "Done.\n"
     ]
    },
    {
     "data": {
      "text/html": [
       "<table>\n",
       "    <tr>\n",
       "        <th>TotalDuplicatedRows</th>\n",
       "    </tr>\n",
       "    <tr>\n",
       "        <td>0</td>\n",
       "    </tr>\n",
       "</table>"
      ],
      "text/plain": [
       "[(0,)]"
      ]
     },
     "execution_count": 86,
     "metadata": {},
     "output_type": "execute_result"
    }
   ],
   "source": [
    "%%sql\n",
    "\n",
    "WITH DuplicatesCTE AS (\n",
    "    SELECT *,\n",
    "           ROW_NUMBER() OVER (\n",
    "               PARTITION BY ParcelID, \n",
    "                            PropertyAddress, \n",
    "                            SalePrice, \n",
    "                            SaleDate, \n",
    "                            LegalReference\n",
    "               ORDER BY UniqueID\n",
    "           ) AS Ocurrences\n",
    "    FROM nashville_housing\n",
    ")\n",
    "\n",
    "SELECT COUNT(*) AS TotalDuplicatedRows\n",
    "FROM DuplicatesCTE\n",
    "WHERE Ocurrences > 1;"
   ]
  },
  {
   "cell_type": "markdown",
   "metadata": {},
   "source": [
    "#### Delete irrelevant columns"
   ]
  },
  {
   "cell_type": "code",
   "execution_count": 88,
   "metadata": {},
   "outputs": [
    {
     "name": "stdout",
     "output_type": "stream",
     "text": [
      " * sqlite:///NashvilleHousing.db\n",
      "Done.\n"
     ]
    },
    {
     "data": {
      "text/html": [
       "<table>\n",
       "    <tr>\n",
       "        <th>UniqueID</th>\n",
       "        <th>ParcelID</th>\n",
       "        <th>LandUse</th>\n",
       "        <th>PropertyAddress</th>\n",
       "        <th>SaleDate</th>\n",
       "        <th>SalePrice</th>\n",
       "        <th>LegalReference</th>\n",
       "        <th>SoldAsVacant</th>\n",
       "        <th>OwnerName</th>\n",
       "        <th>OwnerAddress</th>\n",
       "        <th>Acreage</th>\n",
       "        <th>TaxDistrict</th>\n",
       "        <th>LandValue</th>\n",
       "        <th>BuildingValue</th>\n",
       "        <th>TotalValue</th>\n",
       "        <th>YearBuilt</th>\n",
       "        <th>Bedrooms</th>\n",
       "        <th>FullBath</th>\n",
       "        <th>HalfBath</th>\n",
       "        <th>PropertyStreet</th>\n",
       "        <th>PropertyCity</th>\n",
       "        <th>OwnerStreet</th>\n",
       "        <th>OwnerCity</th>\n",
       "        <th>OwnerState</th>\n",
       "    </tr>\n",
       "    <tr>\n",
       "        <td>2045</td>\n",
       "        <td>007 00 0 125.00</td>\n",
       "        <td>SINGLE FAMILY</td>\n",
       "        <td>1808  FOX CHASE DR, GOODLETTSVILLE</td>\n",
       "        <td>2013-04-09</td>\n",
       "        <td>240000</td>\n",
       "        <td>20130412-0036474</td>\n",
       "        <td>0</td>\n",
       "        <td>FRAZIER, CYRENTHA LYNETTE</td>\n",
       "        <td>1808  FOX CHASE DR, GOODLETTSVILLE, TN</td>\n",
       "        <td>2.3</td>\n",
       "        <td>GENERAL SERVICES DISTRICT</td>\n",
       "        <td>50000.0</td>\n",
       "        <td>168200.0</td>\n",
       "        <td>235700.0</td>\n",
       "        <td>1986.0</td>\n",
       "        <td>3.0</td>\n",
       "        <td>3.0</td>\n",
       "        <td>0.0</td>\n",
       "        <td>1808  FOX CHASE DR</td>\n",
       "        <td> GOODLETTSVILLE</td>\n",
       "        <td>1808  FOX CHASE DR</td>\n",
       "        <td>GOODLETTSVILLE</td>\n",
       "        <td>TN</td>\n",
       "    </tr>\n",
       "    <tr>\n",
       "        <td>16918</td>\n",
       "        <td>007 00 0 130.00</td>\n",
       "        <td>SINGLE FAMILY</td>\n",
       "        <td>1832  FOX CHASE DR, GOODLETTSVILLE</td>\n",
       "        <td>2014-06-10</td>\n",
       "        <td>366000</td>\n",
       "        <td>20140619-0053768</td>\n",
       "        <td>0</td>\n",
       "        <td>BONER, CHARLES &amp; LESLIE</td>\n",
       "        <td>1832  FOX CHASE DR, GOODLETTSVILLE, TN</td>\n",
       "        <td>3.5</td>\n",
       "        <td>GENERAL SERVICES DISTRICT</td>\n",
       "        <td>50000.0</td>\n",
       "        <td>264100.0</td>\n",
       "        <td>319000.0</td>\n",
       "        <td>1998.0</td>\n",
       "        <td>3.0</td>\n",
       "        <td>3.0</td>\n",
       "        <td>2.0</td>\n",
       "        <td>1832  FOX CHASE DR</td>\n",
       "        <td> GOODLETTSVILLE</td>\n",
       "        <td>1832  FOX CHASE DR</td>\n",
       "        <td>GOODLETTSVILLE</td>\n",
       "        <td>TN</td>\n",
       "    </tr>\n",
       "    <tr>\n",
       "        <td>54582</td>\n",
       "        <td>007 00 0 138.00</td>\n",
       "        <td>SINGLE FAMILY</td>\n",
       "        <td>1864 FOX CHASE  DR, GOODLETTSVILLE</td>\n",
       "        <td>2016-09-26</td>\n",
       "        <td>435000</td>\n",
       "        <td>20160927-0101718</td>\n",
       "        <td>0</td>\n",
       "        <td>WILSON, JAMES E. &amp; JOANNE</td>\n",
       "        <td>1864  FOX CHASE DR, GOODLETTSVILLE, TN</td>\n",
       "        <td>2.9</td>\n",
       "        <td>GENERAL SERVICES DISTRICT</td>\n",
       "        <td>50000.0</td>\n",
       "        <td>216200.0</td>\n",
       "        <td>298000.0</td>\n",
       "        <td>1987.0</td>\n",
       "        <td>4.0</td>\n",
       "        <td>3.0</td>\n",
       "        <td>0.0</td>\n",
       "        <td>1864 FOX CHASE  DR</td>\n",
       "        <td> GOODLETTSVILLE</td>\n",
       "        <td>1864  FOX CHASE DR</td>\n",
       "        <td>GOODLETTSVILLE</td>\n",
       "        <td>TN</td>\n",
       "    </tr>\n",
       "</table>"
      ],
      "text/plain": [
       "[(2045, '007 00 0 125.00', 'SINGLE FAMILY', '1808  FOX CHASE DR, GOODLETTSVILLE', '2013-04-09', 240000, '20130412-0036474', '0', 'FRAZIER, CYRENTHA LYNETTE', '1808  FOX CHASE DR, GOODLETTSVILLE, TN', 2.3, 'GENERAL SERVICES DISTRICT', 50000.0, 168200.0, 235700.0, 1986.0, 3.0, 3.0, 0.0, '1808  FOX CHASE DR', ' GOODLETTSVILLE', '1808  FOX CHASE DR', 'GOODLETTSVILLE', 'TN'),\n",
       " (16918, '007 00 0 130.00', 'SINGLE FAMILY', '1832  FOX CHASE DR, GOODLETTSVILLE', '2014-06-10', 366000, '20140619-0053768', '0', 'BONER, CHARLES & LESLIE', '1832  FOX CHASE DR, GOODLETTSVILLE, TN', 3.5, 'GENERAL SERVICES DISTRICT', 50000.0, 264100.0, 319000.0, 1998.0, 3.0, 3.0, 2.0, '1832  FOX CHASE DR', ' GOODLETTSVILLE', '1832  FOX CHASE DR', 'GOODLETTSVILLE', 'TN'),\n",
       " (54582, '007 00 0 138.00', 'SINGLE FAMILY', '1864 FOX CHASE  DR, GOODLETTSVILLE', '2016-09-26', 435000, '20160927-0101718', '0', 'WILSON, JAMES E. & JOANNE', '1864  FOX CHASE DR, GOODLETTSVILLE, TN', 2.9, 'GENERAL SERVICES DISTRICT', 50000.0, 216200.0, 298000.0, 1987.0, 4.0, 3.0, 0.0, '1864 FOX CHASE  DR', ' GOODLETTSVILLE', '1864  FOX CHASE DR', 'GOODLETTSVILLE', 'TN')]"
      ]
     },
     "execution_count": 88,
     "metadata": {},
     "output_type": "execute_result"
    }
   ],
   "source": [
    "%%sql\n",
    "SELECT *\n",
    "FROM nashville_housing\n",
    "LIMIT 3;"
   ]
  },
  {
   "cell_type": "code",
   "execution_count": 90,
   "metadata": {},
   "outputs": [
    {
     "name": "stdout",
     "output_type": "stream",
     "text": [
      " * sqlite:///NashvilleHousing.db\n",
      "Done.\n"
     ]
    },
    {
     "data": {
      "text/plain": [
       "[]"
      ]
     },
     "execution_count": 90,
     "metadata": {},
     "output_type": "execute_result"
    }
   ],
   "source": [
    "%%sql\n",
    "ALTER TABLE nashville_housing DROP COLUMN PropertyAddress;"
   ]
  },
  {
   "cell_type": "code",
   "execution_count": 91,
   "metadata": {},
   "outputs": [
    {
     "name": "stdout",
     "output_type": "stream",
     "text": [
      " * sqlite:///NashvilleHousing.db\n",
      "Done.\n"
     ]
    },
    {
     "data": {
      "text/plain": [
       "[]"
      ]
     },
     "execution_count": 91,
     "metadata": {},
     "output_type": "execute_result"
    }
   ],
   "source": [
    "%%sql\n",
    "ALTER TABLE nashville_housing DROP COLUMN OwnerAddress;"
   ]
  },
  {
   "cell_type": "code",
   "execution_count": 92,
   "metadata": {},
   "outputs": [
    {
     "name": "stdout",
     "output_type": "stream",
     "text": [
      " * sqlite:///NashvilleHousing.db\n",
      "Done.\n"
     ]
    },
    {
     "data": {
      "text/plain": [
       "[]"
      ]
     },
     "execution_count": 92,
     "metadata": {},
     "output_type": "execute_result"
    }
   ],
   "source": [
    "%%sql\n",
    "ALTER TABLE nashville_housing DROP COLUMN TaxDistrict;"
   ]
  },
  {
   "cell_type": "code",
   "execution_count": 94,
   "metadata": {},
   "outputs": [
    {
     "name": "stdout",
     "output_type": "stream",
     "text": [
      " * sqlite:///NashvilleHousing.db\n",
      "Done.\n"
     ]
    },
    {
     "data": {
      "text/html": [
       "<table>\n",
       "    <tr>\n",
       "        <th>UniqueID</th>\n",
       "        <th>ParcelID</th>\n",
       "        <th>LandUse</th>\n",
       "        <th>SaleDate</th>\n",
       "        <th>SalePrice</th>\n",
       "        <th>LegalReference</th>\n",
       "        <th>SoldAsVacant</th>\n",
       "        <th>OwnerName</th>\n",
       "        <th>Acreage</th>\n",
       "        <th>LandValue</th>\n",
       "        <th>BuildingValue</th>\n",
       "        <th>TotalValue</th>\n",
       "        <th>YearBuilt</th>\n",
       "        <th>Bedrooms</th>\n",
       "        <th>FullBath</th>\n",
       "        <th>HalfBath</th>\n",
       "        <th>PropertyStreet</th>\n",
       "        <th>PropertyCity</th>\n",
       "        <th>OwnerStreet</th>\n",
       "        <th>OwnerCity</th>\n",
       "        <th>OwnerState</th>\n",
       "    </tr>\n",
       "    <tr>\n",
       "        <td>2045</td>\n",
       "        <td>007 00 0 125.00</td>\n",
       "        <td>SINGLE FAMILY</td>\n",
       "        <td>2013-04-09</td>\n",
       "        <td>240000</td>\n",
       "        <td>20130412-0036474</td>\n",
       "        <td>0</td>\n",
       "        <td>FRAZIER, CYRENTHA LYNETTE</td>\n",
       "        <td>2.3</td>\n",
       "        <td>50000.0</td>\n",
       "        <td>168200.0</td>\n",
       "        <td>235700.0</td>\n",
       "        <td>1986.0</td>\n",
       "        <td>3.0</td>\n",
       "        <td>3.0</td>\n",
       "        <td>0.0</td>\n",
       "        <td>1808  FOX CHASE DR</td>\n",
       "        <td> GOODLETTSVILLE</td>\n",
       "        <td>1808  FOX CHASE DR</td>\n",
       "        <td>GOODLETTSVILLE</td>\n",
       "        <td>TN</td>\n",
       "    </tr>\n",
       "    <tr>\n",
       "        <td>16918</td>\n",
       "        <td>007 00 0 130.00</td>\n",
       "        <td>SINGLE FAMILY</td>\n",
       "        <td>2014-06-10</td>\n",
       "        <td>366000</td>\n",
       "        <td>20140619-0053768</td>\n",
       "        <td>0</td>\n",
       "        <td>BONER, CHARLES &amp; LESLIE</td>\n",
       "        <td>3.5</td>\n",
       "        <td>50000.0</td>\n",
       "        <td>264100.0</td>\n",
       "        <td>319000.0</td>\n",
       "        <td>1998.0</td>\n",
       "        <td>3.0</td>\n",
       "        <td>3.0</td>\n",
       "        <td>2.0</td>\n",
       "        <td>1832  FOX CHASE DR</td>\n",
       "        <td> GOODLETTSVILLE</td>\n",
       "        <td>1832  FOX CHASE DR</td>\n",
       "        <td>GOODLETTSVILLE</td>\n",
       "        <td>TN</td>\n",
       "    </tr>\n",
       "    <tr>\n",
       "        <td>54582</td>\n",
       "        <td>007 00 0 138.00</td>\n",
       "        <td>SINGLE FAMILY</td>\n",
       "        <td>2016-09-26</td>\n",
       "        <td>435000</td>\n",
       "        <td>20160927-0101718</td>\n",
       "        <td>0</td>\n",
       "        <td>WILSON, JAMES E. &amp; JOANNE</td>\n",
       "        <td>2.9</td>\n",
       "        <td>50000.0</td>\n",
       "        <td>216200.0</td>\n",
       "        <td>298000.0</td>\n",
       "        <td>1987.0</td>\n",
       "        <td>4.0</td>\n",
       "        <td>3.0</td>\n",
       "        <td>0.0</td>\n",
       "        <td>1864 FOX CHASE  DR</td>\n",
       "        <td> GOODLETTSVILLE</td>\n",
       "        <td>1864  FOX CHASE DR</td>\n",
       "        <td>GOODLETTSVILLE</td>\n",
       "        <td>TN</td>\n",
       "    </tr>\n",
       "    <tr>\n",
       "        <td>43070</td>\n",
       "        <td>007 00 0 143.00</td>\n",
       "        <td>SINGLE FAMILY</td>\n",
       "        <td>2016-01-29</td>\n",
       "        <td>255000</td>\n",
       "        <td>20160129-0008913</td>\n",
       "        <td>0</td>\n",
       "        <td>BAKER, JAY K. &amp; SUSAN E.</td>\n",
       "        <td>2.6</td>\n",
       "        <td>50000.0</td>\n",
       "        <td>147300.0</td>\n",
       "        <td>197300.0</td>\n",
       "        <td>1985.0</td>\n",
       "        <td>3.0</td>\n",
       "        <td>3.0</td>\n",
       "        <td>0.0</td>\n",
       "        <td>1853  FOX CHASE DR</td>\n",
       "        <td> GOODLETTSVILLE</td>\n",
       "        <td>1853  FOX CHASE DR</td>\n",
       "        <td>GOODLETTSVILLE</td>\n",
       "        <td>TN</td>\n",
       "    </tr>\n",
       "    <tr>\n",
       "        <td>22714</td>\n",
       "        <td>007 00 0 149.00</td>\n",
       "        <td>SINGLE FAMILY</td>\n",
       "        <td>2014-10-10</td>\n",
       "        <td>278000</td>\n",
       "        <td>20141015-0095255</td>\n",
       "        <td>0</td>\n",
       "        <td>POST, CHRISTOPHER M. &amp; SAMANTHA C.</td>\n",
       "        <td>2.0</td>\n",
       "        <td>50000.0</td>\n",
       "        <td>152300.0</td>\n",
       "        <td>202300.0</td>\n",
       "        <td>1984.0</td>\n",
       "        <td>4.0</td>\n",
       "        <td>3.0</td>\n",
       "        <td>0.0</td>\n",
       "        <td>1829  FOX CHASE DR</td>\n",
       "        <td> GOODLETTSVILLE</td>\n",
       "        <td>1829  FOX CHASE DR</td>\n",
       "        <td>GOODLETTSVILLE</td>\n",
       "        <td>TN</td>\n",
       "    </tr>\n",
       "</table>"
      ],
      "text/plain": [
       "[(2045, '007 00 0 125.00', 'SINGLE FAMILY', '2013-04-09', 240000, '20130412-0036474', '0', 'FRAZIER, CYRENTHA LYNETTE', 2.3, 50000.0, 168200.0, 235700.0, 1986.0, 3.0, 3.0, 0.0, '1808  FOX CHASE DR', ' GOODLETTSVILLE', '1808  FOX CHASE DR', 'GOODLETTSVILLE', 'TN'),\n",
       " (16918, '007 00 0 130.00', 'SINGLE FAMILY', '2014-06-10', 366000, '20140619-0053768', '0', 'BONER, CHARLES & LESLIE', 3.5, 50000.0, 264100.0, 319000.0, 1998.0, 3.0, 3.0, 2.0, '1832  FOX CHASE DR', ' GOODLETTSVILLE', '1832  FOX CHASE DR', 'GOODLETTSVILLE', 'TN'),\n",
       " (54582, '007 00 0 138.00', 'SINGLE FAMILY', '2016-09-26', 435000, '20160927-0101718', '0', 'WILSON, JAMES E. & JOANNE', 2.9, 50000.0, 216200.0, 298000.0, 1987.0, 4.0, 3.0, 0.0, '1864 FOX CHASE  DR', ' GOODLETTSVILLE', '1864  FOX CHASE DR', 'GOODLETTSVILLE', 'TN'),\n",
       " (43070, '007 00 0 143.00', 'SINGLE FAMILY', '2016-01-29', 255000, '20160129-0008913', '0', 'BAKER, JAY K. & SUSAN E.', 2.6, 50000.0, 147300.0, 197300.0, 1985.0, 3.0, 3.0, 0.0, '1853  FOX CHASE DR', ' GOODLETTSVILLE', '1853  FOX CHASE DR', 'GOODLETTSVILLE', 'TN'),\n",
       " (22714, '007 00 0 149.00', 'SINGLE FAMILY', '2014-10-10', 278000, '20141015-0095255', '0', 'POST, CHRISTOPHER M. & SAMANTHA C.', 2.0, 50000.0, 152300.0, 202300.0, 1984.0, 4.0, 3.0, 0.0, '1829  FOX CHASE DR', ' GOODLETTSVILLE', '1829  FOX CHASE DR', 'GOODLETTSVILLE', 'TN')]"
      ]
     },
     "execution_count": 94,
     "metadata": {},
     "output_type": "execute_result"
    }
   ],
   "source": [
    "%%sql\n",
    "SELECT *\n",
    "FROM nashville_housing\n",
    "LIMIT 5;"
   ]
  },
  {
   "cell_type": "markdown",
   "metadata": {},
   "source": [
    "#### Done."
   ]
  },
  {
   "cell_type": "code",
   "execution_count": 95,
   "metadata": {},
   "outputs": [],
   "source": [
    "# close connection\n",
    "con.close()"
   ]
  }
 ],
 "metadata": {
  "kernelspec": {
   "display_name": "tecmx",
   "language": "python",
   "name": "python3"
  },
  "language_info": {
   "codemirror_mode": {
    "name": "ipython",
    "version": 3
   },
   "file_extension": ".py",
   "mimetype": "text/x-python",
   "name": "python",
   "nbconvert_exporter": "python",
   "pygments_lexer": "ipython3",
   "version": "3.12.2"
  }
 },
 "nbformat": 4,
 "nbformat_minor": 2
}
